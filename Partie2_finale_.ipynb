{
  "cells": [
    {
      "cell_type": "markdown",
      "id": "8db181fd",
      "metadata": {
        "id": "8db181fd"
      },
      "source": [
        "# Partie 2"
      ]
    },
    {
      "cell_type": "raw",
      "id": "cc3b907c",
      "metadata": {
        "id": "cc3b907c"
      },
      "source": [
        "Exploration des donn´ees "
      ]
    },
    {
      "cell_type": "code",
      "execution_count": 71,
      "id": "17ace6be",
      "metadata": {
        "id": "17ace6be"
      },
      "outputs": [],
      "source": [
        "import pandas as pd\n",
        "import numpy as np\n",
        "import statistics\n",
        "from sklearn.model_selection import train_test_split\n",
        "from sklearn.preprocessing import LabelEncoder\n",
        "from sklearn.metrics import mean_squared_error\n",
        "from sklearn.decomposition import TruncatedSVD\n",
        "from sklearn.metrics import accuracy_score\n",
        "from scipy.stats import ttest_1samp \n",
        "from scipy.stats import ttest_ind \n",
        "from scipy.stats import ttest_rel\n",
        "from scipy import stats"
      ]
    },
    {
      "cell_type": "code",
      "execution_count": 72,
      "id": "1a2d43b5",
      "metadata": {
        "colab": {
          "base_uri": "https://localhost:8080/",
          "height": 357
        },
        "id": "1a2d43b5",
        "outputId": "d07da4ea-a05a-4bb0-9732-d0afbd0df640"
      },
      "outputs": [
        {
          "output_type": "execute_result",
          "data": {
            "text/plain": [
              "   age classe.travail     education  nombre.education etat.civil  \\\n",
              "0   90            NaN       HS-grad                 9       Veuf   \n",
              "1   82         Privee       HS-grad                 9       Veuf   \n",
              "2   66            NaN  Some-college                10       Veuf   \n",
              "3   54         Privee       7th-8th                 4    Divorce   \n",
              "4   41         Privee  Some-college                10     Separe   \n",
              "\n",
              "          occupation      Lien.parente   race     sexe  heures.par.semaine  \\\n",
              "0                NaN  Pas_dans_famille  Blanc  Feminin                  40   \n",
              "1    Exec-managerial  Pas_dans_famille  Blanc  Feminin                  18   \n",
              "2                NaN       Celibataire   Noir  Feminin                  40   \n",
              "3  Machine-op-inspct       Celibataire  Blanc  Feminin                  40   \n",
              "4     Prof-specialty         Un_enfant  Blanc  Feminin                  40   \n",
              "\n",
              "      pays.natal salaire  \n",
              "0  United-States   <=50K  \n",
              "1  United-States   <=50K  \n",
              "2  United-States   <=50K  \n",
              "3  United-States   <=50K  \n",
              "4  United-States   <=50K  "
            ],
            "text/html": [
              "\n",
              "  <div id=\"df-6686e54d-4ce0-472c-9397-4f323d4fb466\">\n",
              "    <div class=\"colab-df-container\">\n",
              "      <div>\n",
              "<style scoped>\n",
              "    .dataframe tbody tr th:only-of-type {\n",
              "        vertical-align: middle;\n",
              "    }\n",
              "\n",
              "    .dataframe tbody tr th {\n",
              "        vertical-align: top;\n",
              "    }\n",
              "\n",
              "    .dataframe thead th {\n",
              "        text-align: right;\n",
              "    }\n",
              "</style>\n",
              "<table border=\"1\" class=\"dataframe\">\n",
              "  <thead>\n",
              "    <tr style=\"text-align: right;\">\n",
              "      <th></th>\n",
              "      <th>age</th>\n",
              "      <th>classe.travail</th>\n",
              "      <th>education</th>\n",
              "      <th>nombre.education</th>\n",
              "      <th>etat.civil</th>\n",
              "      <th>occupation</th>\n",
              "      <th>Lien.parente</th>\n",
              "      <th>race</th>\n",
              "      <th>sexe</th>\n",
              "      <th>heures.par.semaine</th>\n",
              "      <th>pays.natal</th>\n",
              "      <th>salaire</th>\n",
              "    </tr>\n",
              "  </thead>\n",
              "  <tbody>\n",
              "    <tr>\n",
              "      <th>0</th>\n",
              "      <td>90</td>\n",
              "      <td>NaN</td>\n",
              "      <td>HS-grad</td>\n",
              "      <td>9</td>\n",
              "      <td>Veuf</td>\n",
              "      <td>NaN</td>\n",
              "      <td>Pas_dans_famille</td>\n",
              "      <td>Blanc</td>\n",
              "      <td>Feminin</td>\n",
              "      <td>40</td>\n",
              "      <td>United-States</td>\n",
              "      <td>&lt;=50K</td>\n",
              "    </tr>\n",
              "    <tr>\n",
              "      <th>1</th>\n",
              "      <td>82</td>\n",
              "      <td>Privee</td>\n",
              "      <td>HS-grad</td>\n",
              "      <td>9</td>\n",
              "      <td>Veuf</td>\n",
              "      <td>Exec-managerial</td>\n",
              "      <td>Pas_dans_famille</td>\n",
              "      <td>Blanc</td>\n",
              "      <td>Feminin</td>\n",
              "      <td>18</td>\n",
              "      <td>United-States</td>\n",
              "      <td>&lt;=50K</td>\n",
              "    </tr>\n",
              "    <tr>\n",
              "      <th>2</th>\n",
              "      <td>66</td>\n",
              "      <td>NaN</td>\n",
              "      <td>Some-college</td>\n",
              "      <td>10</td>\n",
              "      <td>Veuf</td>\n",
              "      <td>NaN</td>\n",
              "      <td>Celibataire</td>\n",
              "      <td>Noir</td>\n",
              "      <td>Feminin</td>\n",
              "      <td>40</td>\n",
              "      <td>United-States</td>\n",
              "      <td>&lt;=50K</td>\n",
              "    </tr>\n",
              "    <tr>\n",
              "      <th>3</th>\n",
              "      <td>54</td>\n",
              "      <td>Privee</td>\n",
              "      <td>7th-8th</td>\n",
              "      <td>4</td>\n",
              "      <td>Divorce</td>\n",
              "      <td>Machine-op-inspct</td>\n",
              "      <td>Celibataire</td>\n",
              "      <td>Blanc</td>\n",
              "      <td>Feminin</td>\n",
              "      <td>40</td>\n",
              "      <td>United-States</td>\n",
              "      <td>&lt;=50K</td>\n",
              "    </tr>\n",
              "    <tr>\n",
              "      <th>4</th>\n",
              "      <td>41</td>\n",
              "      <td>Privee</td>\n",
              "      <td>Some-college</td>\n",
              "      <td>10</td>\n",
              "      <td>Separe</td>\n",
              "      <td>Prof-specialty</td>\n",
              "      <td>Un_enfant</td>\n",
              "      <td>Blanc</td>\n",
              "      <td>Feminin</td>\n",
              "      <td>40</td>\n",
              "      <td>United-States</td>\n",
              "      <td>&lt;=50K</td>\n",
              "    </tr>\n",
              "  </tbody>\n",
              "</table>\n",
              "</div>\n",
              "      <button class=\"colab-df-convert\" onclick=\"convertToInteractive('df-6686e54d-4ce0-472c-9397-4f323d4fb466')\"\n",
              "              title=\"Convert this dataframe to an interactive table.\"\n",
              "              style=\"display:none;\">\n",
              "        \n",
              "  <svg xmlns=\"http://www.w3.org/2000/svg\" height=\"24px\"viewBox=\"0 0 24 24\"\n",
              "       width=\"24px\">\n",
              "    <path d=\"M0 0h24v24H0V0z\" fill=\"none\"/>\n",
              "    <path d=\"M18.56 5.44l.94 2.06.94-2.06 2.06-.94-2.06-.94-.94-2.06-.94 2.06-2.06.94zm-11 1L8.5 8.5l.94-2.06 2.06-.94-2.06-.94L8.5 2.5l-.94 2.06-2.06.94zm10 10l.94 2.06.94-2.06 2.06-.94-2.06-.94-.94-2.06-.94 2.06-2.06.94z\"/><path d=\"M17.41 7.96l-1.37-1.37c-.4-.4-.92-.59-1.43-.59-.52 0-1.04.2-1.43.59L10.3 9.45l-7.72 7.72c-.78.78-.78 2.05 0 2.83L4 21.41c.39.39.9.59 1.41.59.51 0 1.02-.2 1.41-.59l7.78-7.78 2.81-2.81c.8-.78.8-2.07 0-2.86zM5.41 20L4 18.59l7.72-7.72 1.47 1.35L5.41 20z\"/>\n",
              "  </svg>\n",
              "      </button>\n",
              "      \n",
              "  <style>\n",
              "    .colab-df-container {\n",
              "      display:flex;\n",
              "      flex-wrap:wrap;\n",
              "      gap: 12px;\n",
              "    }\n",
              "\n",
              "    .colab-df-convert {\n",
              "      background-color: #E8F0FE;\n",
              "      border: none;\n",
              "      border-radius: 50%;\n",
              "      cursor: pointer;\n",
              "      display: none;\n",
              "      fill: #1967D2;\n",
              "      height: 32px;\n",
              "      padding: 0 0 0 0;\n",
              "      width: 32px;\n",
              "    }\n",
              "\n",
              "    .colab-df-convert:hover {\n",
              "      background-color: #E2EBFA;\n",
              "      box-shadow: 0px 1px 2px rgba(60, 64, 67, 0.3), 0px 1px 3px 1px rgba(60, 64, 67, 0.15);\n",
              "      fill: #174EA6;\n",
              "    }\n",
              "\n",
              "    [theme=dark] .colab-df-convert {\n",
              "      background-color: #3B4455;\n",
              "      fill: #D2E3FC;\n",
              "    }\n",
              "\n",
              "    [theme=dark] .colab-df-convert:hover {\n",
              "      background-color: #434B5C;\n",
              "      box-shadow: 0px 1px 3px 1px rgba(0, 0, 0, 0.15);\n",
              "      filter: drop-shadow(0px 1px 2px rgba(0, 0, 0, 0.3));\n",
              "      fill: #FFFFFF;\n",
              "    }\n",
              "  </style>\n",
              "\n",
              "      <script>\n",
              "        const buttonEl =\n",
              "          document.querySelector('#df-6686e54d-4ce0-472c-9397-4f323d4fb466 button.colab-df-convert');\n",
              "        buttonEl.style.display =\n",
              "          google.colab.kernel.accessAllowed ? 'block' : 'none';\n",
              "\n",
              "        async function convertToInteractive(key) {\n",
              "          const element = document.querySelector('#df-6686e54d-4ce0-472c-9397-4f323d4fb466');\n",
              "          const dataTable =\n",
              "            await google.colab.kernel.invokeFunction('convertToInteractive',\n",
              "                                                     [key], {});\n",
              "          if (!dataTable) return;\n",
              "\n",
              "          const docLinkHtml = 'Like what you see? Visit the ' +\n",
              "            '<a target=\"_blank\" href=https://colab.research.google.com/notebooks/data_table.ipynb>data table notebook</a>'\n",
              "            + ' to learn more about interactive tables.';\n",
              "          element.innerHTML = '';\n",
              "          dataTable['output_type'] = 'display_data';\n",
              "          await google.colab.output.renderOutput(dataTable, element);\n",
              "          const docLink = document.createElement('div');\n",
              "          docLink.innerHTML = docLinkHtml;\n",
              "          element.appendChild(docLink);\n",
              "        }\n",
              "      </script>\n",
              "    </div>\n",
              "  </div>\n",
              "  "
            ]
          },
          "metadata": {},
          "execution_count": 72
        }
      ],
      "source": [
        "# Remplacer les caratere spesial par NAN\n",
        "missing_values = [\"?\"]\n",
        "ds = pd.read_csv('salaires.csv', na_values = missing_values)\n",
        "ds.head()"
      ]
    },
    {
      "cell_type": "code",
      "execution_count": 73,
      "id": "607cb4fb",
      "metadata": {
        "colab": {
          "base_uri": "https://localhost:8080/",
          "height": 661
        },
        "id": "607cb4fb",
        "outputId": "e082cfae-979d-4435-bc2e-da10df194402"
      },
      "outputs": [
        {
          "output_type": "execute_result",
          "data": {
            "text/plain": [
              "       age classe.travail     education  nombre.education    etat.civil  \\\n",
              "0       90            NaN       HS-grad                 9          Veuf   \n",
              "1       82         Privee       HS-grad                 9          Veuf   \n",
              "2       66            NaN  Some-college                10          Veuf   \n",
              "3       54         Privee       7th-8th                 4       Divorce   \n",
              "4       41         Privee  Some-college                10        Separe   \n",
              "...    ...            ...           ...               ...           ...   \n",
              "32556   22         Privee  Some-college                10  Jamais_marie   \n",
              "32557   27         Privee    Assoc-acdm                12   Marie_civil   \n",
              "32558   40         Privee       HS-grad                 9   Marie_civil   \n",
              "32559   58         Privee       HS-grad                 9          Veuf   \n",
              "32560   22         Privee       HS-grad                 9  Jamais_marie   \n",
              "\n",
              "              occupation      Lien.parente   race      sexe  \\\n",
              "0                    NaN  Pas_dans_famille  Blanc   Feminin   \n",
              "1        Exec-managerial  Pas_dans_famille  Blanc   Feminin   \n",
              "2                    NaN       Celibataire   Noir   Feminin   \n",
              "3      Machine-op-inspct       Celibataire  Blanc   Feminin   \n",
              "4         Prof-specialty         Un_enfant  Blanc   Feminin   \n",
              "...                  ...               ...    ...       ...   \n",
              "32556    Protective-serv  Pas_dans_famille  Blanc  Masculin   \n",
              "32557       Tech-support            Epouse  Blanc   Feminin   \n",
              "32558  Machine-op-inspct              Mari  Blanc  Masculin   \n",
              "32559       Adm-clerical       Celibataire  Blanc   Feminin   \n",
              "32560       Adm-clerical         Un_enfant  Blanc  Masculin   \n",
              "\n",
              "       heures.par.semaine     pays.natal  salaire  \n",
              "0                      40  United-States        0  \n",
              "1                      18  United-States        0  \n",
              "2                      40  United-States        0  \n",
              "3                      40  United-States        0  \n",
              "4                      40  United-States        0  \n",
              "...                   ...            ...      ...  \n",
              "32556                  40  United-States        0  \n",
              "32557                  38  United-States        0  \n",
              "32558                  40  United-States        1  \n",
              "32559                  40  United-States        0  \n",
              "32560                  20  United-States        0  \n",
              "\n",
              "[32561 rows x 12 columns]"
            ],
            "text/html": [
              "\n",
              "  <div id=\"df-2de7046c-e3e1-47a4-ac57-183fc54ba1bf\">\n",
              "    <div class=\"colab-df-container\">\n",
              "      <div>\n",
              "<style scoped>\n",
              "    .dataframe tbody tr th:only-of-type {\n",
              "        vertical-align: middle;\n",
              "    }\n",
              "\n",
              "    .dataframe tbody tr th {\n",
              "        vertical-align: top;\n",
              "    }\n",
              "\n",
              "    .dataframe thead th {\n",
              "        text-align: right;\n",
              "    }\n",
              "</style>\n",
              "<table border=\"1\" class=\"dataframe\">\n",
              "  <thead>\n",
              "    <tr style=\"text-align: right;\">\n",
              "      <th></th>\n",
              "      <th>age</th>\n",
              "      <th>classe.travail</th>\n",
              "      <th>education</th>\n",
              "      <th>nombre.education</th>\n",
              "      <th>etat.civil</th>\n",
              "      <th>occupation</th>\n",
              "      <th>Lien.parente</th>\n",
              "      <th>race</th>\n",
              "      <th>sexe</th>\n",
              "      <th>heures.par.semaine</th>\n",
              "      <th>pays.natal</th>\n",
              "      <th>salaire</th>\n",
              "    </tr>\n",
              "  </thead>\n",
              "  <tbody>\n",
              "    <tr>\n",
              "      <th>0</th>\n",
              "      <td>90</td>\n",
              "      <td>NaN</td>\n",
              "      <td>HS-grad</td>\n",
              "      <td>9</td>\n",
              "      <td>Veuf</td>\n",
              "      <td>NaN</td>\n",
              "      <td>Pas_dans_famille</td>\n",
              "      <td>Blanc</td>\n",
              "      <td>Feminin</td>\n",
              "      <td>40</td>\n",
              "      <td>United-States</td>\n",
              "      <td>0</td>\n",
              "    </tr>\n",
              "    <tr>\n",
              "      <th>1</th>\n",
              "      <td>82</td>\n",
              "      <td>Privee</td>\n",
              "      <td>HS-grad</td>\n",
              "      <td>9</td>\n",
              "      <td>Veuf</td>\n",
              "      <td>Exec-managerial</td>\n",
              "      <td>Pas_dans_famille</td>\n",
              "      <td>Blanc</td>\n",
              "      <td>Feminin</td>\n",
              "      <td>18</td>\n",
              "      <td>United-States</td>\n",
              "      <td>0</td>\n",
              "    </tr>\n",
              "    <tr>\n",
              "      <th>2</th>\n",
              "      <td>66</td>\n",
              "      <td>NaN</td>\n",
              "      <td>Some-college</td>\n",
              "      <td>10</td>\n",
              "      <td>Veuf</td>\n",
              "      <td>NaN</td>\n",
              "      <td>Celibataire</td>\n",
              "      <td>Noir</td>\n",
              "      <td>Feminin</td>\n",
              "      <td>40</td>\n",
              "      <td>United-States</td>\n",
              "      <td>0</td>\n",
              "    </tr>\n",
              "    <tr>\n",
              "      <th>3</th>\n",
              "      <td>54</td>\n",
              "      <td>Privee</td>\n",
              "      <td>7th-8th</td>\n",
              "      <td>4</td>\n",
              "      <td>Divorce</td>\n",
              "      <td>Machine-op-inspct</td>\n",
              "      <td>Celibataire</td>\n",
              "      <td>Blanc</td>\n",
              "      <td>Feminin</td>\n",
              "      <td>40</td>\n",
              "      <td>United-States</td>\n",
              "      <td>0</td>\n",
              "    </tr>\n",
              "    <tr>\n",
              "      <th>4</th>\n",
              "      <td>41</td>\n",
              "      <td>Privee</td>\n",
              "      <td>Some-college</td>\n",
              "      <td>10</td>\n",
              "      <td>Separe</td>\n",
              "      <td>Prof-specialty</td>\n",
              "      <td>Un_enfant</td>\n",
              "      <td>Blanc</td>\n",
              "      <td>Feminin</td>\n",
              "      <td>40</td>\n",
              "      <td>United-States</td>\n",
              "      <td>0</td>\n",
              "    </tr>\n",
              "    <tr>\n",
              "      <th>...</th>\n",
              "      <td>...</td>\n",
              "      <td>...</td>\n",
              "      <td>...</td>\n",
              "      <td>...</td>\n",
              "      <td>...</td>\n",
              "      <td>...</td>\n",
              "      <td>...</td>\n",
              "      <td>...</td>\n",
              "      <td>...</td>\n",
              "      <td>...</td>\n",
              "      <td>...</td>\n",
              "      <td>...</td>\n",
              "    </tr>\n",
              "    <tr>\n",
              "      <th>32556</th>\n",
              "      <td>22</td>\n",
              "      <td>Privee</td>\n",
              "      <td>Some-college</td>\n",
              "      <td>10</td>\n",
              "      <td>Jamais_marie</td>\n",
              "      <td>Protective-serv</td>\n",
              "      <td>Pas_dans_famille</td>\n",
              "      <td>Blanc</td>\n",
              "      <td>Masculin</td>\n",
              "      <td>40</td>\n",
              "      <td>United-States</td>\n",
              "      <td>0</td>\n",
              "    </tr>\n",
              "    <tr>\n",
              "      <th>32557</th>\n",
              "      <td>27</td>\n",
              "      <td>Privee</td>\n",
              "      <td>Assoc-acdm</td>\n",
              "      <td>12</td>\n",
              "      <td>Marie_civil</td>\n",
              "      <td>Tech-support</td>\n",
              "      <td>Epouse</td>\n",
              "      <td>Blanc</td>\n",
              "      <td>Feminin</td>\n",
              "      <td>38</td>\n",
              "      <td>United-States</td>\n",
              "      <td>0</td>\n",
              "    </tr>\n",
              "    <tr>\n",
              "      <th>32558</th>\n",
              "      <td>40</td>\n",
              "      <td>Privee</td>\n",
              "      <td>HS-grad</td>\n",
              "      <td>9</td>\n",
              "      <td>Marie_civil</td>\n",
              "      <td>Machine-op-inspct</td>\n",
              "      <td>Mari</td>\n",
              "      <td>Blanc</td>\n",
              "      <td>Masculin</td>\n",
              "      <td>40</td>\n",
              "      <td>United-States</td>\n",
              "      <td>1</td>\n",
              "    </tr>\n",
              "    <tr>\n",
              "      <th>32559</th>\n",
              "      <td>58</td>\n",
              "      <td>Privee</td>\n",
              "      <td>HS-grad</td>\n",
              "      <td>9</td>\n",
              "      <td>Veuf</td>\n",
              "      <td>Adm-clerical</td>\n",
              "      <td>Celibataire</td>\n",
              "      <td>Blanc</td>\n",
              "      <td>Feminin</td>\n",
              "      <td>40</td>\n",
              "      <td>United-States</td>\n",
              "      <td>0</td>\n",
              "    </tr>\n",
              "    <tr>\n",
              "      <th>32560</th>\n",
              "      <td>22</td>\n",
              "      <td>Privee</td>\n",
              "      <td>HS-grad</td>\n",
              "      <td>9</td>\n",
              "      <td>Jamais_marie</td>\n",
              "      <td>Adm-clerical</td>\n",
              "      <td>Un_enfant</td>\n",
              "      <td>Blanc</td>\n",
              "      <td>Masculin</td>\n",
              "      <td>20</td>\n",
              "      <td>United-States</td>\n",
              "      <td>0</td>\n",
              "    </tr>\n",
              "  </tbody>\n",
              "</table>\n",
              "<p>32561 rows × 12 columns</p>\n",
              "</div>\n",
              "      <button class=\"colab-df-convert\" onclick=\"convertToInteractive('df-2de7046c-e3e1-47a4-ac57-183fc54ba1bf')\"\n",
              "              title=\"Convert this dataframe to an interactive table.\"\n",
              "              style=\"display:none;\">\n",
              "        \n",
              "  <svg xmlns=\"http://www.w3.org/2000/svg\" height=\"24px\"viewBox=\"0 0 24 24\"\n",
              "       width=\"24px\">\n",
              "    <path d=\"M0 0h24v24H0V0z\" fill=\"none\"/>\n",
              "    <path d=\"M18.56 5.44l.94 2.06.94-2.06 2.06-.94-2.06-.94-.94-2.06-.94 2.06-2.06.94zm-11 1L8.5 8.5l.94-2.06 2.06-.94-2.06-.94L8.5 2.5l-.94 2.06-2.06.94zm10 10l.94 2.06.94-2.06 2.06-.94-2.06-.94-.94-2.06-.94 2.06-2.06.94z\"/><path d=\"M17.41 7.96l-1.37-1.37c-.4-.4-.92-.59-1.43-.59-.52 0-1.04.2-1.43.59L10.3 9.45l-7.72 7.72c-.78.78-.78 2.05 0 2.83L4 21.41c.39.39.9.59 1.41.59.51 0 1.02-.2 1.41-.59l7.78-7.78 2.81-2.81c.8-.78.8-2.07 0-2.86zM5.41 20L4 18.59l7.72-7.72 1.47 1.35L5.41 20z\"/>\n",
              "  </svg>\n",
              "      </button>\n",
              "      \n",
              "  <style>\n",
              "    .colab-df-container {\n",
              "      display:flex;\n",
              "      flex-wrap:wrap;\n",
              "      gap: 12px;\n",
              "    }\n",
              "\n",
              "    .colab-df-convert {\n",
              "      background-color: #E8F0FE;\n",
              "      border: none;\n",
              "      border-radius: 50%;\n",
              "      cursor: pointer;\n",
              "      display: none;\n",
              "      fill: #1967D2;\n",
              "      height: 32px;\n",
              "      padding: 0 0 0 0;\n",
              "      width: 32px;\n",
              "    }\n",
              "\n",
              "    .colab-df-convert:hover {\n",
              "      background-color: #E2EBFA;\n",
              "      box-shadow: 0px 1px 2px rgba(60, 64, 67, 0.3), 0px 1px 3px 1px rgba(60, 64, 67, 0.15);\n",
              "      fill: #174EA6;\n",
              "    }\n",
              "\n",
              "    [theme=dark] .colab-df-convert {\n",
              "      background-color: #3B4455;\n",
              "      fill: #D2E3FC;\n",
              "    }\n",
              "\n",
              "    [theme=dark] .colab-df-convert:hover {\n",
              "      background-color: #434B5C;\n",
              "      box-shadow: 0px 1px 3px 1px rgba(0, 0, 0, 0.15);\n",
              "      filter: drop-shadow(0px 1px 2px rgba(0, 0, 0, 0.3));\n",
              "      fill: #FFFFFF;\n",
              "    }\n",
              "  </style>\n",
              "\n",
              "      <script>\n",
              "        const buttonEl =\n",
              "          document.querySelector('#df-2de7046c-e3e1-47a4-ac57-183fc54ba1bf button.colab-df-convert');\n",
              "        buttonEl.style.display =\n",
              "          google.colab.kernel.accessAllowed ? 'block' : 'none';\n",
              "\n",
              "        async function convertToInteractive(key) {\n",
              "          const element = document.querySelector('#df-2de7046c-e3e1-47a4-ac57-183fc54ba1bf');\n",
              "          const dataTable =\n",
              "            await google.colab.kernel.invokeFunction('convertToInteractive',\n",
              "                                                     [key], {});\n",
              "          if (!dataTable) return;\n",
              "\n",
              "          const docLinkHtml = 'Like what you see? Visit the ' +\n",
              "            '<a target=\"_blank\" href=https://colab.research.google.com/notebooks/data_table.ipynb>data table notebook</a>'\n",
              "            + ' to learn more about interactive tables.';\n",
              "          element.innerHTML = '';\n",
              "          dataTable['output_type'] = 'display_data';\n",
              "          await google.colab.output.renderOutput(dataTable, element);\n",
              "          const docLink = document.createElement('div');\n",
              "          docLink.innerHTML = docLinkHtml;\n",
              "          element.appendChild(docLink);\n",
              "        }\n",
              "      </script>\n",
              "    </div>\n",
              "  </div>\n",
              "  "
            ]
          },
          "metadata": {},
          "execution_count": 73
        }
      ],
      "source": [
        "#modifié le type de la colonne salaire, en remplacant le ‘<=50k’ par 0 et ‘>50k’ par 1.\n",
        "ds['salaire'].replace(['<=50K', '>50K'], [0, 1], inplace=True)\n",
        "ds"
      ]
    },
    {
      "cell_type": "code",
      "execution_count": 74,
      "id": "cc28b83e",
      "metadata": {
        "colab": {
          "base_uri": "https://localhost:8080/"
        },
        "id": "cc28b83e",
        "outputId": "f0f83e50-be3c-45af-d44b-67aa48b6d2f3"
      },
      "outputs": [
        {
          "output_type": "stream",
          "name": "stdout",
          "text": [
            "le nombre de lignes dupliquées est:  4243\n"
          ]
        }
      ],
      "source": [
        "print('le nombre de lignes dupliquées est: ',ds.duplicated().sum())"
      ]
    },
    {
      "cell_type": "code",
      "execution_count": 75,
      "id": "4821d43f",
      "metadata": {
        "id": "4821d43f"
      },
      "outputs": [],
      "source": [
        "# Quel est la taille du jeu de donn´ees ?"
      ]
    },
    {
      "cell_type": "code",
      "execution_count": 76,
      "id": "a77567ff",
      "metadata": {
        "colab": {
          "base_uri": "https://localhost:8080/"
        },
        "id": "a77567ff",
        "outputId": "da23dcb2-32de-45b7-a38b-d28ad1836c83"
      },
      "outputs": [
        {
          "output_type": "stream",
          "name": "stdout",
          "text": [
            "la taille du jeu de donn´ees est:  (32561, 12)\n"
          ]
        }
      ],
      "source": [
        "print('la taille du jeu de donn´ees est: ',ds.shape)"
      ]
    },
    {
      "cell_type": "code",
      "execution_count": 77,
      "id": "192f749e",
      "metadata": {
        "id": "192f749e"
      },
      "outputs": [],
      "source": [
        "# 2. Combien de valeurs manquantes y a-t-il pour chaque colonne ? Quelle est\n",
        "# la colonne (feature) qui a le plus de valeurs manquantes ?"
      ]
    },
    {
      "cell_type": "code",
      "execution_count": 78,
      "id": "eebef8e6",
      "metadata": {
        "scrolled": true,
        "colab": {
          "base_uri": "https://localhost:8080/"
        },
        "id": "eebef8e6",
        "outputId": "cb8312b2-8a82-4149-fc0c-c2ff9f4e5499"
      },
      "outputs": [
        {
          "output_type": "stream",
          "name": "stdout",
          "text": [
            "Les valeurs manquantes dans chaque colonne:  \n",
            " age                      0\n",
            "classe.travail        1836\n",
            "education                0\n",
            "nombre.education         0\n",
            "etat.civil               0\n",
            "occupation            1843\n",
            "Lien.parente             0\n",
            "race                     0\n",
            "sexe                     0\n",
            "heures.par.semaine       0\n",
            "pays.natal             583\n",
            "salaire                  0\n",
            "dtype: int64\n",
            "Les colonnes qui a le plus de valeurs manquantes est:  occupation\n"
          ]
        }
      ],
      "source": [
        "nan_values= ds.isna().sum()\n",
        "print('Les valeurs manquantes dans chaque colonne:  \\n', nan_values)\n",
        "print('Les colonnes qui a le plus de valeurs manquantes est: ', nan_values.idxmax())"
      ]
    },
    {
      "cell_type": "code",
      "execution_count": 79,
      "id": "724d09df",
      "metadata": {
        "id": "724d09df"
      },
      "outputs": [],
      "source": [
        "# 3. Combien d’hommes y a-t-il dans ce jeu de donn´ees ?"
      ]
    },
    {
      "cell_type": "code",
      "execution_count": 80,
      "id": "d7390556",
      "metadata": {
        "colab": {
          "base_uri": "https://localhost:8080/"
        },
        "id": "d7390556",
        "outputId": "4b71d073-cd48-414a-aa83-2b195262f85e"
      },
      "outputs": [
        {
          "output_type": "stream",
          "name": "stdout",
          "text": [
            "Le nombre d homme dans notre jeu de donnees est:  21790\n"
          ]
        }
      ],
      "source": [
        "print('Le nombre d homme dans notre jeu de donnees est: ' , ds['sexe'].tolist().count('Masculin'))"
      ]
    },
    {
      "cell_type": "code",
      "execution_count": 81,
      "id": "d6566a85",
      "metadata": {
        "id": "d6566a85"
      },
      "outputs": [],
      "source": [
        "# 4. Quel est l’ˆage le plus ´elev´e et le plus bas de ce jeu de donn´ees ?"
      ]
    },
    {
      "cell_type": "code",
      "execution_count": 82,
      "id": "e47f8079",
      "metadata": {
        "colab": {
          "base_uri": "https://localhost:8080/"
        },
        "id": "e47f8079",
        "outputId": "f1ba3a9e-233a-4f8d-e3e9-eee6d8a0d172"
      },
      "outputs": [
        {
          "output_type": "stream",
          "name": "stdout",
          "text": [
            "l’ˆage le plus ´elev´e est:  90\n",
            "l’ˆage le plus bas est:  17\n"
          ]
        }
      ],
      "source": [
        "print('l’ˆage le plus ´elev´e est: ' , ds['age'].max())\n",
        "print('l’ˆage le plus bas est: ' , ds['age'].min())"
      ]
    },
    {
      "cell_type": "code",
      "execution_count": 83,
      "id": "652ef53b",
      "metadata": {
        "id": "652ef53b"
      },
      "outputs": [],
      "source": [
        "# 5. Combien de femmes travaillent dans le secteur priv´e?"
      ]
    },
    {
      "cell_type": "code",
      "execution_count": 84,
      "id": "1cf3d585",
      "metadata": {
        "colab": {
          "base_uri": "https://localhost:8080/"
        },
        "id": "1cf3d585",
        "outputId": "62d68381-826b-4b5a-d4d1-0ca05ec4f1c2"
      },
      "outputs": [
        {
          "output_type": "stream",
          "name": "stdout",
          "text": [
            "Le nombre de femmes travaillent dans le secteur priv´e est:  7752\n"
          ]
        }
      ],
      "source": [
        "# drop nan values in Two columns by using subset parameter.\n",
        "#dss=ds.dropna(subset=['sexe','classe.travail'])\n",
        "#len(ds.loc[ ((ds['sexe']=='Feminin') & (ds['classe.travail']== 'Privee')) ])\n",
        "print ('Le nombre de femmes travaillent dans le secteur priv´e est: ',\n",
        "       ds[(ds['sexe'] == \"Feminin\") & (ds['classe.travail'] == \"Privee\")]['sexe'].count())"
      ]
    },
    {
      "cell_type": "code",
      "execution_count": 85,
      "id": "1a29d9f1",
      "metadata": {
        "id": "1a29d9f1"
      },
      "outputs": [],
      "source": [
        "# 6. Quelle est la liste des diff´erents pays repr´esent´es dans la colonne repr´esentant\n",
        "# le pays natal/d’origine de chaque personne de notre jeu de donn´ees?"
      ]
    },
    {
      "cell_type": "code",
      "execution_count": 86,
      "id": "28a2085d",
      "metadata": {
        "colab": {
          "base_uri": "https://localhost:8080/"
        },
        "id": "28a2085d",
        "outputId": "ca01f6b7-a7c9-48bc-931d-2cdc195b8fd3"
      },
      "outputs": [
        {
          "output_type": "stream",
          "name": "stdout",
          "text": [
            "['United-States' nan 'Mexico' 'Greece' 'Vietnam' 'China' 'Taiwan' 'India'\n",
            " 'Philippines' 'Trinadad&Tobago' 'Canada' 'South' 'Holand-Netherlands'\n",
            " 'Puerto-Rico' 'Poland' 'Iran' 'England' 'Germany' 'Italy' 'Japan' 'Hong'\n",
            " 'Honduras' 'Cuba' 'Ireland' 'Cambodia' 'Peru' 'Nicaragua'\n",
            " 'Dominican-Republic' 'Haiti' 'El-Salvador' 'Hungary' 'Columbia'\n",
            " 'Guatemala' 'Jamaica' 'Ecuador' 'France' 'Yugoslavia' 'Scotland'\n",
            " 'Portugal' 'Laos' 'Thailand' 'Outlying-US(Guam-USVI-etc)']\n"
          ]
        }
      ],
      "source": [
        "print(ds['pays.natal'].unique())"
      ]
    },
    {
      "cell_type": "code",
      "execution_count": 87,
      "id": "2ebea03e",
      "metadata": {
        "id": "2ebea03e"
      },
      "outputs": [],
      "source": [
        "#1-Peut-on pr´edire l’ˆage d’une personne (femme) en fonction de son niveau\n",
        "#d’´education et son nombre d’heures travaill´ees par semaine ? "
      ]
    },
    {
      "cell_type": "code",
      "execution_count": 88,
      "id": "18da3d2f",
      "metadata": {
        "colab": {
          "base_uri": "https://localhost:8080/"
        },
        "id": "18da3d2f",
        "outputId": "0166c3dd-5c04-4839-9d9f-108423d74884"
      },
      "outputs": [
        {
          "output_type": "stream",
          "name": "stderr",
          "text": [
            "/usr/local/lib/python3.7/dist-packages/ipykernel_launcher.py:5: SettingWithCopyWarning: \n",
            "A value is trying to be set on a copy of a slice from a DataFrame.\n",
            "Try using .loc[row_indexer,col_indexer] = value instead\n",
            "\n",
            "See the caveats in the documentation: https://pandas.pydata.org/pandas-docs/stable/user_guide/indexing.html#returning-a-view-versus-a-copy\n",
            "  \"\"\"\n"
          ]
        }
      ],
      "source": [
        "Fonction_encodeur=LabelEncoder()\n",
        "df = pd.read_csv(\"salaires.csv\")\n",
        "df = df[df['sexe'] == 'Feminin']\n",
        "ds1 = df[['age', 'education', 'heures.par.semaine']]\n",
        "ds1['education'] = Fonction_encodeur.fit_transform(ds1['education'])"
      ]
    },
    {
      "cell_type": "code",
      "execution_count": 89,
      "id": "2f6f71cc",
      "metadata": {
        "id": "2f6f71cc"
      },
      "outputs": [],
      "source": [
        "X_train, X_test, y_train, y_test = train_test_split(ds1[['education', 'heures.par.semaine']], ds1[['age']], test_size=0.1, random_state=50)"
      ]
    },
    {
      "cell_type": "code",
      "execution_count": 90,
      "id": "9311dc04",
      "metadata": {
        "id": "9311dc04"
      },
      "outputs": [],
      "source": [
        "#L'application de la fonction QR:\n",
        "q, r = np.linalg.qr(X_train)"
      ]
    },
    {
      "cell_type": "code",
      "execution_count": 91,
      "id": "3e7321d1",
      "metadata": {
        "id": "3e7321d1"
      },
      "outputs": [],
      "source": [
        "#Calcule de la fonction Beta:\n",
        "Bt = np.dot(np.dot(np.linalg.inv(r), q.T), y_train)"
      ]
    },
    {
      "cell_type": "code",
      "execution_count": 92,
      "id": "d957a643",
      "metadata": {
        "colab": {
          "base_uri": "https://localhost:8080/"
        },
        "id": "d957a643",
        "outputId": "67b622ea-7611-4e3d-d63a-07e3cdfb50ac"
      },
      "outputs": [
        {
          "output_type": "stream",
          "name": "stdout",
          "text": [
            "la différence moyenne au carré entre les valeurs estimées et la valeur réelle. est: 264.8727197569161\n"
          ]
        }
      ],
      "source": [
        "prediction = np.dot(X_test, Bt)\n",
        "print('la différence moyenne au carré entre les valeurs estimées et la valeur réelle. est:',mean_squared_error(prediction, y_test))"
      ]
    },
    {
      "cell_type": "code",
      "execution_count": 93,
      "id": "1549c0b7",
      "metadata": {
        "id": "1549c0b7"
      },
      "outputs": [],
      "source": [
        "#2- Si le niveau d’´education et le nombre d’heures travaill´ees ´etaient r´eduits `a\n",
        "#1 seule dimension qui capture les informations importantes des 2 (SVD) ?"
      ]
    },
    {
      "cell_type": "code",
      "execution_count": 94,
      "id": "48eeae48",
      "metadata": {
        "id": "48eeae48"
      },
      "outputs": [],
      "source": [
        "svd = TruncatedSVD(1)"
      ]
    },
    {
      "cell_type": "code",
      "execution_count": 95,
      "id": "2def2294",
      "metadata": {
        "id": "2def2294"
      },
      "outputs": [],
      "source": [
        "X_train2 = svd.fit_transform(X_train)\n",
        "X_test2 = svd.transform(X_test)"
      ]
    },
    {
      "cell_type": "code",
      "execution_count": 96,
      "id": "a237c22a",
      "metadata": {
        "colab": {
          "base_uri": "https://localhost:8080/"
        },
        "id": "a237c22a",
        "outputId": "f1744a07-2ccd-4de4-d056-060d108ec3a2"
      },
      "outputs": [
        {
          "output_type": "stream",
          "name": "stdout",
          "text": [
            "la différence moyenne au carré entre les valeurs estimées et la valeur réelle. est:  281.6099286620582\n"
          ]
        }
      ],
      "source": [
        "#L'application de la fonction QR:\n",
        "q2, r2 = np.linalg.qr(X_train2)\n",
        "Bt2 = np.dot(np.dot(np.linalg.inv(r2), q2.T), y_train)\n",
        "prediction2 = np.dot(X_test2, Bt2)\n",
        "print('la différence moyenne au carré entre les valeurs estimées et la valeur réelle. est: ',mean_squared_error(prediction2, y_test))"
      ]
    },
    {
      "cell_type": "code",
      "execution_count": 97,
      "id": "760fc6e1",
      "metadata": {
        "id": "760fc6e1"
      },
      "outputs": [],
      "source": [
        "#3. Peut-on pr´edire si le salaire d’une femme sera ≤ 50K en fonction de son\n",
        "#niveau d’´education, son ˆage et son nombre d’heures travaill´ees par semaine\n",
        "#? V"
      ]
    },
    {
      "cell_type": "code",
      "execution_count": 98,
      "id": "068f1c68",
      "metadata": {
        "colab": {
          "base_uri": "https://localhost:8080/"
        },
        "id": "068f1c68",
        "outputId": "4ee362f1-d39c-4620-dc10-7b9343c32582"
      },
      "outputs": [
        {
          "output_type": "stream",
          "name": "stderr",
          "text": [
            "/usr/local/lib/python3.7/dist-packages/ipykernel_launcher.py:2: SettingWithCopyWarning: \n",
            "A value is trying to be set on a copy of a slice from a DataFrame.\n",
            "Try using .loc[row_indexer,col_indexer] = value instead\n",
            "\n",
            "See the caveats in the documentation: https://pandas.pydata.org/pandas-docs/stable/user_guide/indexing.html#returning-a-view-versus-a-copy\n",
            "  \n",
            "/usr/local/lib/python3.7/dist-packages/pandas/core/generic.py:6619: SettingWithCopyWarning: \n",
            "A value is trying to be set on a copy of a slice from a DataFrame\n",
            "\n",
            "See the caveats in the documentation: https://pandas.pydata.org/pandas-docs/stable/user_guide/indexing.html#returning-a-view-versus-a-copy\n",
            "  return self._update_inplace(result)\n"
          ]
        }
      ],
      "source": [
        "ds2 = df[['age', 'education', 'heures.par.semaine', 'salaire']]\n",
        "ds2['education'] = Fonction_encodeur.fit_transform(ds2['education'])\n",
        "ds2['salaire'].replace(['<=50K', '>50K'],\n",
        "                        [0, 1], inplace=True)"
      ]
    },
    {
      "cell_type": "code",
      "execution_count": 99,
      "id": "0fe19181",
      "metadata": {
        "id": "0fe19181"
      },
      "outputs": [],
      "source": [
        "X_train3, X_test3, y_train3, y_test3 = train_test_split(ds2[['education', 'heures.par.semaine', 'age']],\n",
        "                                                    ds2[['salaire']], test_size=0.1, random_state=50)"
      ]
    },
    {
      "cell_type": "code",
      "execution_count": 100,
      "id": "05e10294",
      "metadata": {
        "id": "05e10294"
      },
      "outputs": [],
      "source": [
        "q3, r3 = np.linalg.qr(X_train3)\n",
        "Bt3 = np.dot(np.dot(np.linalg.inv(r3), q3.T), y_train3)\n",
        "prediction3 = np.dot(X_test3, Bt3)"
      ]
    },
    {
      "cell_type": "code",
      "execution_count": 101,
      "id": "b74a4ab7",
      "metadata": {
        "id": "b74a4ab7"
      },
      "outputs": [],
      "source": [
        "prediction3[prediction3 >= 0.5] = 1\n",
        "prediction3[prediction3 < 0.5] = 0"
      ]
    },
    {
      "cell_type": "code",
      "execution_count": 102,
      "id": "c1502f30",
      "metadata": {
        "colab": {
          "base_uri": "https://localhost:8080/"
        },
        "id": "c1502f30",
        "outputId": "43170fca-e321-468c-a75b-63d151ebac7a"
      },
      "outputs": [
        {
          "output_type": "stream",
          "name": "stdout",
          "text": [
            "lexactitude obtenu est:  0.9035250463821892\n"
          ]
        }
      ],
      "source": [
        "print('lexactitude obtenu est: ',accuracy_score(prediction3, y_test3))"
      ]
    },
    {
      "cell_type": "raw",
      "id": "62ccbe80",
      "metadata": {
        "id": "62ccbe80"
      },
      "source": []
    },
    {
      "cell_type": "raw",
      "id": "881be816",
      "metadata": {
        "id": "881be816"
      },
      "source": [
        " 3- Analyses statistiques et probabilistes "
      ]
    },
    {
      "cell_type": "code",
      "execution_count": 103,
      "id": "04ab71a4",
      "metadata": {
        "id": "04ab71a4"
      },
      "outputs": [],
      "source": [
        "#1- Quelle est la moyenne des ˆages ? Quelle est la moyenne du nombre d’heures\n",
        "#travaill´ees par semaine ? et les valeurs m´edianes ? "
      ]
    },
    {
      "cell_type": "code",
      "execution_count": 104,
      "id": "3d1971a4",
      "metadata": {
        "colab": {
          "base_uri": "https://localhost:8080/"
        },
        "id": "3d1971a4",
        "outputId": "43067d1f-89f6-4cfa-8a61-14451fffa90f"
      },
      "outputs": [
        {
          "output_type": "stream",
          "name": "stdout",
          "text": [
            " la moyenne des ˆages:  38.58164675532078 \n",
            " le mediane d age est:  37.0\n",
            "la moyenne du nombre d’heures travaill´ees par semaine:  40.437455852092995 \n",
            " le mediane du nombre d heures est :  40.0\n"
          ]
        }
      ],
      "source": [
        "print(' la moyenne des ˆages: ', ds['age'].mean(), '\\n', 'le mediane d age est: ',ds['age'].median() )\n",
        "print('la moyenne du nombre d’heures travaill´ees par semaine: ', ds['heures.par.semaine'].mean(), '\\n', 'le mediane du nombre d heures est : ',ds['heures.par.semaine'].median() )"
      ]
    },
    {
      "cell_type": "code",
      "execution_count": 105,
      "id": "4310f457",
      "metadata": {
        "id": "4310f457"
      },
      "outputs": [],
      "source": [
        "#2-Quelle sont les ˆages (prendre les 5 premiers) les plus repr´esentatifs de ce\n",
        "#jeu de donn´ees ? Repr´esentent-ils une tranche d’ˆage en particulier (ex:\n",
        "#30-35 ans) ?"
      ]
    },
    {
      "cell_type": "code",
      "execution_count": 106,
      "id": "dcbfd768",
      "metadata": {
        "colab": {
          "base_uri": "https://localhost:8080/"
        },
        "id": "dcbfd768",
        "outputId": "2103f78a-15bd-45c4-cf01-da74f39cc8eb"
      },
      "outputs": [
        {
          "output_type": "stream",
          "name": "stdout",
          "text": [
            "les 5 premiers age les plus repr´esentatifsest:  [35, 23, 34, 31, 36]\n"
          ]
        }
      ],
      "source": [
        "#ds['age'].value_counts().nlargest(5).sort_values()\n",
        "list_age= ds['age'].value_counts()[:5].sort_values().index.tolist()\n",
        "print('les 5 premiers age les plus repr´esentatifsest: ',ds['age'].value_counts()[:5].sort_values().index.tolist())\n",
        "# create intervals"
      ]
    },
    {
      "cell_type": "code",
      "execution_count": 107,
      "id": "0cc9869c",
      "metadata": {
        "id": "0cc9869c"
      },
      "outputs": [],
      "source": [
        "#3- Comment est la variance (`a quel point les donn´ees sont ´eparpill´es/dispers´ees)\n",
        "#des heures travaill´ees par semaine ? Et les ˆages ?"
      ]
    },
    {
      "cell_type": "code",
      "execution_count": 108,
      "id": "2aea52ac",
      "metadata": {
        "scrolled": true,
        "colab": {
          "base_uri": "https://localhost:8080/"
        },
        "id": "2aea52ac",
        "outputId": "db6580f6-973a-4e2a-9745-b0eda148477d"
      },
      "outputs": [
        {
          "output_type": "stream",
          "name": "stdout",
          "text": [
            "La variance d age:  186.05568600783081\n",
            "la variance de nombre d heures:  152.45431279269025\n"
          ]
        }
      ],
      "source": [
        "print('La variance d age: ', statistics.pvariance(ds['age']))\n",
        "print('la variance de nombre d heures: ', statistics.pvariance(ds['heures.par.semaine']))"
      ]
    },
    {
      "cell_type": "code",
      "execution_count": 109,
      "id": "662e692c",
      "metadata": {
        "id": "662e692c"
      },
      "outputs": [],
      "source": [
        "#4=Est ce que le niveau d’´education, compar´e `a l’age influe le plus sur la valeur\n",
        "#du salaire ? En d’autres termes est que le niveau d’´education a plus de\n",
        "#poids sur le salaire que l’age ?"
      ]
    },
    {
      "cell_type": "code",
      "execution_count": 110,
      "id": "013bb827",
      "metadata": {
        "colab": {
          "base_uri": "https://localhost:8080/"
        },
        "id": "013bb827",
        "outputId": "c68fda42-e72a-474d-c3d8-d282358fe295"
      },
      "outputs": [
        {
          "output_type": "stream",
          "name": "stdout",
          "text": [
            "La Correlation age_salaire est:  0.234037102648859\n",
            "La Correlation nombre.education_salaire est:  0.335153952690943\n"
          ]
        }
      ],
      "source": [
        "print('La Correlation age_salaire est: ',ds.corr()['salaire']['age'])\n",
        "print('La Correlation nombre.education_salaire est: ',ds.corr()['salaire']['nombre.education'])"
      ]
    },
    {
      "cell_type": "code",
      "execution_count": 111,
      "id": "6037671a",
      "metadata": {
        "colab": {
          "base_uri": "https://localhost:8080/"
        },
        "id": "6037671a",
        "outputId": "63cd151e-382b-4da1-907c-7e8646bf2312"
      },
      "outputs": [
        {
          "output_type": "stream",
          "name": "stdout",
          "text": [
            "La Correlation age_salaire est:  0.234037102648859\n",
            "La Correlation nombre.education_salaire est:  0.07931660927729825\n"
          ]
        }
      ],
      "source": [
        "##############################################\n",
        "missing_values = [\"?\"]\n",
        "dss = pd.read_csv('salaires.csv', na_values = missing_values)\n",
        "dss['salaire'].replace(['<=50K', '>50K'], [0, 1], inplace=True)\n",
        "dss[['education']] = dss[['education']].apply(lambda col:pd.Categorical(col).codes)\n",
        "print('La Correlation age_salaire est: ',dss.corr()['salaire']['age'])\n",
        "print('La Correlation nombre.education_salaire est: ',dss.corr()['salaire']['education'])"
      ]
    },
    {
      "cell_type": "code",
      "execution_count": 112,
      "id": "8fdb0aac",
      "metadata": {
        "id": "8fdb0aac"
      },
      "outputs": [],
      "source": [
        "#5-Est ce que le niveau d’´education, compar´e au nombre d’heures travaill´e\n",
        "#par semaine influe le plus sur la valeur du salaire ? En d’autres termes\n",
        "#est que le niveau d’´education a plus de poids sur le salaire que le nombre\n",
        "#d’heures travaill´ees par semaine ?"
      ]
    },
    {
      "cell_type": "code",
      "execution_count": 113,
      "id": "7f6ab204",
      "metadata": {
        "colab": {
          "base_uri": "https://localhost:8080/",
          "height": 175
        },
        "id": "7f6ab204",
        "outputId": "7098fe42-deb9-4644-abe3-accb57a857d0"
      },
      "outputs": [
        {
          "output_type": "execute_result",
          "data": {
            "text/plain": [
              "                         age  nombre.education  heures.par.semaine   salaire\n",
              "age                 1.000000          0.036527            0.068756  0.234037\n",
              "nombre.education    0.036527          1.000000            0.148123  0.335154\n",
              "heures.par.semaine  0.068756          0.148123            1.000000  0.229689\n",
              "salaire             0.234037          0.335154            0.229689  1.000000"
            ],
            "text/html": [
              "\n",
              "  <div id=\"df-4bb820b5-f734-4fd1-b37a-f5050dd9dd59\">\n",
              "    <div class=\"colab-df-container\">\n",
              "      <div>\n",
              "<style scoped>\n",
              "    .dataframe tbody tr th:only-of-type {\n",
              "        vertical-align: middle;\n",
              "    }\n",
              "\n",
              "    .dataframe tbody tr th {\n",
              "        vertical-align: top;\n",
              "    }\n",
              "\n",
              "    .dataframe thead th {\n",
              "        text-align: right;\n",
              "    }\n",
              "</style>\n",
              "<table border=\"1\" class=\"dataframe\">\n",
              "  <thead>\n",
              "    <tr style=\"text-align: right;\">\n",
              "      <th></th>\n",
              "      <th>age</th>\n",
              "      <th>nombre.education</th>\n",
              "      <th>heures.par.semaine</th>\n",
              "      <th>salaire</th>\n",
              "    </tr>\n",
              "  </thead>\n",
              "  <tbody>\n",
              "    <tr>\n",
              "      <th>age</th>\n",
              "      <td>1.000000</td>\n",
              "      <td>0.036527</td>\n",
              "      <td>0.068756</td>\n",
              "      <td>0.234037</td>\n",
              "    </tr>\n",
              "    <tr>\n",
              "      <th>nombre.education</th>\n",
              "      <td>0.036527</td>\n",
              "      <td>1.000000</td>\n",
              "      <td>0.148123</td>\n",
              "      <td>0.335154</td>\n",
              "    </tr>\n",
              "    <tr>\n",
              "      <th>heures.par.semaine</th>\n",
              "      <td>0.068756</td>\n",
              "      <td>0.148123</td>\n",
              "      <td>1.000000</td>\n",
              "      <td>0.229689</td>\n",
              "    </tr>\n",
              "    <tr>\n",
              "      <th>salaire</th>\n",
              "      <td>0.234037</td>\n",
              "      <td>0.335154</td>\n",
              "      <td>0.229689</td>\n",
              "      <td>1.000000</td>\n",
              "    </tr>\n",
              "  </tbody>\n",
              "</table>\n",
              "</div>\n",
              "      <button class=\"colab-df-convert\" onclick=\"convertToInteractive('df-4bb820b5-f734-4fd1-b37a-f5050dd9dd59')\"\n",
              "              title=\"Convert this dataframe to an interactive table.\"\n",
              "              style=\"display:none;\">\n",
              "        \n",
              "  <svg xmlns=\"http://www.w3.org/2000/svg\" height=\"24px\"viewBox=\"0 0 24 24\"\n",
              "       width=\"24px\">\n",
              "    <path d=\"M0 0h24v24H0V0z\" fill=\"none\"/>\n",
              "    <path d=\"M18.56 5.44l.94 2.06.94-2.06 2.06-.94-2.06-.94-.94-2.06-.94 2.06-2.06.94zm-11 1L8.5 8.5l.94-2.06 2.06-.94-2.06-.94L8.5 2.5l-.94 2.06-2.06.94zm10 10l.94 2.06.94-2.06 2.06-.94-2.06-.94-.94-2.06-.94 2.06-2.06.94z\"/><path d=\"M17.41 7.96l-1.37-1.37c-.4-.4-.92-.59-1.43-.59-.52 0-1.04.2-1.43.59L10.3 9.45l-7.72 7.72c-.78.78-.78 2.05 0 2.83L4 21.41c.39.39.9.59 1.41.59.51 0 1.02-.2 1.41-.59l7.78-7.78 2.81-2.81c.8-.78.8-2.07 0-2.86zM5.41 20L4 18.59l7.72-7.72 1.47 1.35L5.41 20z\"/>\n",
              "  </svg>\n",
              "      </button>\n",
              "      \n",
              "  <style>\n",
              "    .colab-df-container {\n",
              "      display:flex;\n",
              "      flex-wrap:wrap;\n",
              "      gap: 12px;\n",
              "    }\n",
              "\n",
              "    .colab-df-convert {\n",
              "      background-color: #E8F0FE;\n",
              "      border: none;\n",
              "      border-radius: 50%;\n",
              "      cursor: pointer;\n",
              "      display: none;\n",
              "      fill: #1967D2;\n",
              "      height: 32px;\n",
              "      padding: 0 0 0 0;\n",
              "      width: 32px;\n",
              "    }\n",
              "\n",
              "    .colab-df-convert:hover {\n",
              "      background-color: #E2EBFA;\n",
              "      box-shadow: 0px 1px 2px rgba(60, 64, 67, 0.3), 0px 1px 3px 1px rgba(60, 64, 67, 0.15);\n",
              "      fill: #174EA6;\n",
              "    }\n",
              "\n",
              "    [theme=dark] .colab-df-convert {\n",
              "      background-color: #3B4455;\n",
              "      fill: #D2E3FC;\n",
              "    }\n",
              "\n",
              "    [theme=dark] .colab-df-convert:hover {\n",
              "      background-color: #434B5C;\n",
              "      box-shadow: 0px 1px 3px 1px rgba(0, 0, 0, 0.15);\n",
              "      filter: drop-shadow(0px 1px 2px rgba(0, 0, 0, 0.3));\n",
              "      fill: #FFFFFF;\n",
              "    }\n",
              "  </style>\n",
              "\n",
              "      <script>\n",
              "        const buttonEl =\n",
              "          document.querySelector('#df-4bb820b5-f734-4fd1-b37a-f5050dd9dd59 button.colab-df-convert');\n",
              "        buttonEl.style.display =\n",
              "          google.colab.kernel.accessAllowed ? 'block' : 'none';\n",
              "\n",
              "        async function convertToInteractive(key) {\n",
              "          const element = document.querySelector('#df-4bb820b5-f734-4fd1-b37a-f5050dd9dd59');\n",
              "          const dataTable =\n",
              "            await google.colab.kernel.invokeFunction('convertToInteractive',\n",
              "                                                     [key], {});\n",
              "          if (!dataTable) return;\n",
              "\n",
              "          const docLinkHtml = 'Like what you see? Visit the ' +\n",
              "            '<a target=\"_blank\" href=https://colab.research.google.com/notebooks/data_table.ipynb>data table notebook</a>'\n",
              "            + ' to learn more about interactive tables.';\n",
              "          element.innerHTML = '';\n",
              "          dataTable['output_type'] = 'display_data';\n",
              "          await google.colab.output.renderOutput(dataTable, element);\n",
              "          const docLink = document.createElement('div');\n",
              "          docLink.innerHTML = docLinkHtml;\n",
              "          element.appendChild(docLink);\n",
              "        }\n",
              "      </script>\n",
              "    </div>\n",
              "  </div>\n",
              "  "
            ]
          },
          "metadata": {},
          "execution_count": 113
        }
      ],
      "source": [
        "ds.corr()"
      ]
    },
    {
      "cell_type": "code",
      "execution_count": 114,
      "id": "ba6540da",
      "metadata": {
        "id": "ba6540da"
      },
      "outputs": [],
      "source": [
        "#6-A quel point l’ˆage est un facteur qui influe le salaire? Pour r´epondre `a `\n",
        "#cette question vous devez v´erifier que l’ˆage moyen de ceux qui gagne moins\n",
        "#de 50k est plus bas que ceux qui gagnent plus de 50k."
      ]
    },
    {
      "cell_type": "code",
      "execution_count": 115,
      "id": "870da1b0",
      "metadata": {
        "colab": {
          "base_uri": "https://localhost:8080/"
        },
        "id": "870da1b0",
        "outputId": "334fc6d5-0252-4724-aafb-32e9baba9bcd"
      },
      "outputs": [
        {
          "output_type": "stream",
          "name": "stdout",
          "text": [
            "Lage moyen de ceux qui gagnent <= 50K:  36.78373786407767\n",
            "Lage moyen de ceux qui gagnent > 50K:  44.24984058155847\n",
            "Effectivement, l’ˆage est un facteur qui influe le salaire\n"
          ]
        }
      ],
      "source": [
        "age_moyen1= ds[(ds['salaire']==0)]['age'].mean()\n",
        "age_moyen2= ds[(ds['salaire']== 1)]['age'].mean()\n",
        "print(\"Lage moyen de ceux qui gagnent <= 50K: \",age_moyen1)\n",
        "print(\"Lage moyen de ceux qui gagnent > 50K: \",age_moyen2)\n",
        "if age_moyen1 < age_moyen2:\n",
        "    print('Effectivement, l’ˆage est un facteur qui influe le salaire')\n",
        "else:\n",
        "    print('l’ˆage n`est pas vraiment un facteur qui influe le salaire')"
      ]
    },
    {
      "cell_type": "code",
      "execution_count": 116,
      "id": "dbd11449",
      "metadata": {
        "id": "dbd11449"
      },
      "outputs": [],
      "source": [
        "#7-A quel point le nombre d’heures travaill´e par semaine est un facteur qui `\n",
        "#influe le salaire? Pour r´epondre `a cette question vous devez v´erifier que le\n",
        "#nombre moyen d’heure travaill´e par semaine pour ceux qui gagnent moins\n",
        "#de 50k est plus bas que ceux qui gagnent plus de 50k."
      ]
    },
    {
      "cell_type": "code",
      "execution_count": 117,
      "id": "c93feef8",
      "metadata": {
        "colab": {
          "base_uri": "https://localhost:8080/"
        },
        "id": "c93feef8",
        "outputId": "4e4db859-3de5-4cda-fddc-d2ff2e033968"
      },
      "outputs": [
        {
          "output_type": "stream",
          "name": "stdout",
          "text": [
            "nombre moyen d’heure travaill´e par semaine pour ceux qui gagnent <= 50K:  45.473026399693914\n",
            "nombre moyen d’heure travaill´e par semaine pour ceux qui gagnent > 50K:  38.840210355987054\n",
            "le nombre d’heures travaill´e par semaine ne est pas un facteur qui influe le salaire\n"
          ]
        }
      ],
      "source": [
        "heure_moyen1= ds[(ds['salaire']==1)]['heures.par.semaine'].mean()\n",
        "heure_moyen2= ds[(ds['salaire']==0)]['heures.par.semaine'].mean()\n",
        "print(\"nombre moyen d’heure travaill´e par semaine pour ceux qui gagnent <= 50K: \",heure_moyen1)\n",
        "print(\"nombre moyen d’heure travaill´e par semaine pour ceux qui gagnent > 50K: \",heure_moyen2)\n",
        "if heure_moyen1 < heure_moyen2:\n",
        "    print('Effectivement, le nombre d’heures travaill´e par semaine est un facteur qui influe le salaire')\n",
        "else:\n",
        "    print('le nombre d’heures travaill´e par semaine ne est pas un facteur qui influe le salaire')"
      ]
    },
    {
      "cell_type": "code",
      "execution_count": 118,
      "id": "ea05917d",
      "metadata": {
        "id": "ea05917d"
      },
      "outputs": [],
      "source": [
        "#8-Est ce qu’il y a une diff´erence de salaire entre les personnes mari´ees et les\n",
        "#personnes c´elibataires ? Quel groupe gagne le mieux leurs vies ?"
      ]
    },
    {
      "cell_type": "code",
      "execution_count": 119,
      "id": "20913dbf",
      "metadata": {
        "colab": {
          "base_uri": "https://localhost:8080/"
        },
        "id": "20913dbf",
        "outputId": "19fd2918-90d1-4f4c-a560-77396b71cfcb"
      },
      "outputs": [
        {
          "output_type": "stream",
          "name": "stdout",
          "text": [
            "le nombre de celibataires qui gagne plus de 50kest:  1115\n",
            "le nombre de maries qui gagne plus de 50k est:  6726\n",
            "la moyen de celibataires qui gagne plus de 50kest:  0.03424342004238199\n",
            "la moyen nombre de maries qui gagne plus de 50k est: 0.43692347667922565\n",
            "Le groupe qui gagne plus est: les personnes mari´ees\n"
          ]
        }
      ],
      "source": [
        "celibataires_list = ['Veuf' ,'Divorce', 'Separe' ,'Jamais_marie', 'Conjoit_fait']\n",
        "celibataires_salaire= ds[ds['etat.civil'].isin(celibataires_list)]['salaire'].value_counts()[1]\n",
        "print('le nombre de celibataires qui gagne plus de 50kest: ',celibataires_salaire)\n",
        "\n",
        "ds_marie=ds.loc[(ds['etat.civil'] == 'Marie_civil')| (ds['etat.civil'] == 'Marie_epoux_absent')]\n",
        "marie_salaire=ds_marie['salaire'].value_counts()[1]\n",
        "print('le nombre de maries qui gagne plus de 50k est: ',marie_salaire)\n",
        "\n",
        "print('la moyen de celibataires qui gagne plus de 50kest: ', (celibataires_salaire)/(ds['etat.civil'].isin(celibataires_list).count()))\n",
        "print('la moyen nombre de maries qui gagne plus de 50k est:', (marie_salaire)/ds_marie['etat.civil'].count())\n",
        "\n",
        "if (marie_salaire)/ds_marie['etat.civil'].count() > (celibataires_salaire)/(ds['etat.civil'].isin(celibataires_list).count()):\n",
        "    print('Le groupe qui gagne plus est: les personnes mari´ees')\n",
        "else:\n",
        "    print('Le groupe qui gagne plus est: personnes c´elibataires')\n"
      ]
    },
    {
      "cell_type": "code",
      "execution_count": 120,
      "id": "acdb30e5",
      "metadata": {
        "id": "acdb30e5"
      },
      "outputs": [],
      "source": [
        "#9-Quelle est la proportion des hommes qui ont un doctorat et gagnent plus\n",
        "#de 50k ? et chez les femmes ?"
      ]
    },
    {
      "cell_type": "code",
      "execution_count": 121,
      "id": "b8fcc728",
      "metadata": {
        "colab": {
          "base_uri": "https://localhost:8080/"
        },
        "id": "b8fcc728",
        "outputId": "613f9d71-131c-41c2-fd52-719ed13a37e3"
      },
      "outputs": [
        {
          "output_type": "stream",
          "name": "stdout",
          "text": [
            "le nombre des hommes qui ont un doctorat et gagnent plus de 50k est:  256\n",
            "le nombre des femmes qui ont un doctorat et gagnent plus de 50k est:  50\n",
            "la proportion des hommes qui ont un doctorat et gagnent plus de 50k est:  1.1748508490133087\n",
            "la proportion des femme qui ont un doctorat et gagnent plus de 50k est:  0.46420945130442853\n"
          ]
        }
      ],
      "source": [
        "print('le nombre des hommes qui ont un doctorat et gagnent plus de 50k est: ',\n",
        "       ds[(ds[\"sexe\"]==\"Masculin\")  & (ds[\"education\"] ==\"Doctorate\")& (ds[\"salaire\"] == 1)].shape[0])\n",
        "print('le nombre des femmes qui ont un doctorat et gagnent plus de 50k est: ',\n",
        "        ds[(ds[\"sexe\"]==\"Feminin\")  & (ds[\"education\"] ==\"Doctorate\")& (ds[\"salaire\"] == 1)].shape[0])\n",
        "\n",
        "print('la proportion des hommes qui ont un doctorat et gagnent plus de 50k est: ',\n",
        "        (256 / ds[(ds[\"sexe\"]==\"Masculin\")].shape[0]) * 100)\n",
        "print('la proportion des femme qui ont un doctorat et gagnent plus de 50k est: ',\n",
        "        (50 / ds[(ds[\"sexe\"]==\"Feminin\")].shape[0]) * 100)"
      ]
    },
    {
      "cell_type": "code",
      "execution_count": 122,
      "id": "3df6708d",
      "metadata": {
        "id": "3df6708d"
      },
      "outputs": [],
      "source": [
        "#10. Quelle est la proportion des femmes mari´ees qui n’ont pas fait de masters\n",
        "#ni de doctorat ? et chez les hommes ?"
      ]
    },
    {
      "cell_type": "code",
      "execution_count": 123,
      "id": "fc0ddd2b",
      "metadata": {
        "colab": {
          "base_uri": "https://localhost:8080/"
        },
        "id": "fc0ddd2b",
        "outputId": "63e0fddd-0feb-40fc-c983-e38f38c846e3"
      },
      "outputs": [
        {
          "output_type": "stream",
          "name": "stdout",
          "text": [
            "le nombre des hommes mari´ees qui n’ont pas fait de masters ni de doctorat est:  12163\n",
            "le nombre des femmes mari´ees qui n’ont pas fait de masters ni de doctorat est:  1524\n",
            "la proportion des hommes qui ont un doctorat et gagnent plus de 50k est:  55.819183111519045\n",
            "la proportion des femmes qui ont un doctorat et gagnent plus de 50k est:  14.149104075758984\n"
          ]
        }
      ],
      "source": [
        "print('le nombre des hommes mari´ees qui n’ont pas fait de masters ni de doctorat est: ',\n",
        "      ds[(ds['sexe']=='Masculin')& (ds[\"etat.civil\"] == \"Marie_civil\") &(ds['education']!='Doctorate') & (ds['education']!='Masters')].shape[0])\n",
        "print(\"le nombre des femmes mari´ees qui n’ont pas fait de masters ni de doctorat est: \",\n",
        "      ds[(ds['sexe']=='Feminin')& (ds[\"etat.civil\"] == \"Marie_civil\") &(ds['education']!='Doctorate') &(ds['education']!='Masters')].shape[0])\n",
        "print('la proportion des hommes qui ont un doctorat et gagnent plus de 50k est: ',\n",
        "      (ds[(ds['sexe']=='Masculin')& (ds[\"etat.civil\"] == \"Marie_civil\") &(ds['education']!='Doctorate') & (ds['education']!='Masters')].shape[0] /  ds[(ds['sexe']=='Masculin')].shape[0]) * 100)\n",
        "print('la proportion des femmes qui ont un doctorat et gagnent plus de 50k est: ',\n",
        "        ( ds[(ds['sexe']=='Feminin')& (ds[\"etat.civil\"] == \"Marie_civil\") &(ds['education']!='Doctorate') &(ds['education']!='Masters')].shape[0] /  ds[(ds['sexe']=='Feminin')].shape[0]) * 100)"
      ]
    },
    {
      "cell_type": "code",
      "execution_count": 124,
      "id": "801ad346",
      "metadata": {
        "id": "801ad346"
      },
      "outputs": [],
      "source": [
        "#11. Les ressortissants de quel pays ont les salaires les plus ´elev´es uniquement\n",
        "#dans notre ´echantillon?"
      ]
    },
    {
      "cell_type": "code",
      "execution_count": 125,
      "id": "19794d22",
      "metadata": {
        "colab": {
          "base_uri": "https://localhost:8080/"
        },
        "id": "19794d22",
        "outputId": "92414b80-2727-46f1-d884-8b56f552b8be"
      },
      "outputs": [
        {
          "output_type": "stream",
          "name": "stdout",
          "text": [
            "Les ressortissants de  Iran  ont les salaires les plus ´elev´es\n"
          ]
        }
      ],
      "source": [
        "ds_ressortissants=ds.groupby('pays.natal')['salaire'].mean()\n",
        "print('Les ressortissants de ', ds_ressortissants.idxmax(), ' ont les salaires les plus ´elev´es')"
      ]
    },
    {
      "cell_type": "code",
      "execution_count": 126,
      "id": "26f77eb4",
      "metadata": {
        "id": "26f77eb4"
      },
      "outputs": [],
      "source": [
        "#12. Quelle race a les salaires les plus ´elev´es uniquement dans notre ´echantillon?"
      ]
    },
    {
      "cell_type": "code",
      "execution_count": 127,
      "id": "ebc96e18",
      "metadata": {
        "colab": {
          "base_uri": "https://localhost:8080/"
        },
        "id": "ebc96e18",
        "outputId": "a419a79e-7e52-41e8-8877-eaa52173846d"
      },
      "outputs": [
        {
          "output_type": "stream",
          "name": "stdout",
          "text": [
            "La race  Asiatique  ont les salaires les plus ´elev´es\n"
          ]
        }
      ],
      "source": [
        "ds_race=ds.groupby('race')['salaire'].mean()\n",
        "print('La race ', ds_race.idxmax(), ' ont les salaires les plus ´elev´es')"
      ]
    },
    {
      "cell_type": "markdown",
      "source": [
        "# 6.5 Tests d'hypothèse :"
      ],
      "metadata": {
        "id": "KtBTcPm7Z4X-"
      },
      "id": "KtBTcPm7Z4X-"
    },
    {
      "cell_type": "code",
      "execution_count": 128,
      "id": "0b67b36f",
      "metadata": {
        "id": "0b67b36f"
      },
      "outputs": [],
      "source": [
        "#1. Est-ce qu’on peut dire que la moyenne d’heures travaill´ees par semaine est\n",
        "#autour de 40h/semaine ? Est-ce que l’affirmer serait significatif ?"
      ]
    },
    {
      "cell_type": "code",
      "execution_count": 129,
      "id": "c0b94354",
      "metadata": {
        "colab": {
          "base_uri": "https://localhost:8080/"
        },
        "id": "c0b94354",
        "outputId": "29fcd69c-d3c5-412a-8939-5df250346733"
      },
      "outputs": [
        {
          "output_type": "stream",
          "name": "stdout",
          "text": [
            "p-values 1.6483286793366825e-10\n",
            "rejetter l'hypothèse nulle\n"
          ]
        }
      ],
      "source": [
        "tset, pval = ttest_1samp(ds['heures.par.semaine'],40)\n",
        "print(\"p-values\",pval)\n",
        "if pval < 0.05 :\n",
        "  print(\"rejetter l'hypothèse nulle\")\n",
        "else :\n",
        "  print(\"on accepte l'hypothèse nulle\")"
      ]
    },
    {
      "cell_type": "code",
      "execution_count": 130,
      "id": "c656a563",
      "metadata": {
        "id": "c656a563"
      },
      "outputs": [],
      "source": [
        "#2) Est ce que les hommes ont en moyenne un salaire supérieur à 50k comparé\n",
        "#aux femmes ?"
      ]
    },
    {
      "cell_type": "code",
      "source": [
        "from scipy.stats import ttest_ind "
      ],
      "metadata": {
        "id": "E0rfpz-q6AIj"
      },
      "id": "E0rfpz-q6AIj",
      "execution_count": 131,
      "outputs": []
    },
    {
      "cell_type": "code",
      "source": [
        "Fonction_encodeur=LabelEncoder()"
      ],
      "metadata": {
        "id": "q1uG3wLi6C3b"
      },
      "id": "q1uG3wLi6C3b",
      "execution_count": 132,
      "outputs": []
    },
    {
      "cell_type": "code",
      "source": [
        "nv_df= pd.read_csv(\"salaires.csv\")"
      ],
      "metadata": {
        "id": "A3PP0pCW6NdV"
      },
      "id": "A3PP0pCW6NdV",
      "execution_count": 134,
      "outputs": []
    },
    {
      "cell_type": "code",
      "execution_count": 135,
      "id": "7d12c195",
      "metadata": {
        "id": "7d12c195"
      },
      "outputs": [],
      "source": [
        "nv_df['salaire'] = Fonction_encodeur.fit_transform(nv_df['salaire']== \">50K\")\n",
        "data_female = nv_df[(nv_df['sexe'] == 'Feminin')]\n",
        "data_m=nv_df[(nv_df['sexe'] == 'Masculin')]\n"
      ]
    },
    {
      "cell_type": "code",
      "execution_count": 136,
      "id": "c4690015",
      "metadata": {
        "colab": {
          "base_uri": "https://localhost:8080/"
        },
        "id": "c4690015",
        "outputId": "36d469f9-7dc7-4576-ab1d-b7148d89f46a"
      },
      "outputs": [
        {
          "output_type": "stream",
          "name": "stdout",
          "text": [
            "p-values 0.0\n"
          ]
        }
      ],
      "source": [
        "ttest2, pval2 = ttest_ind(data_m[\"salaire\"], data_female[\"salaire\"])\n",
        "print(\"p-values\",pval2)"
      ]
    },
    {
      "cell_type": "code",
      "execution_count": 137,
      "id": "199832f9",
      "metadata": {
        "colab": {
          "base_uri": "https://localhost:8080/"
        },
        "id": "199832f9",
        "outputId": "4c627ee3-352c-4a73-8f4c-d65071175f19"
      },
      "outputs": [
        {
          "output_type": "stream",
          "name": "stdout",
          "text": [
            "rejetter l'hpothèse nulle\n"
          ]
        }
      ],
      "source": [
        "if pval2 < 0.05 :\n",
        "  print(\"rejetter l'hpothèse nulle\")\n",
        "else:\n",
        "  print(\"on accepte l'hypothèse nulle\")\n"
      ]
    },
    {
      "cell_type": "code",
      "execution_count": 138,
      "id": "eaf5a328",
      "metadata": {
        "id": "eaf5a328"
      },
      "outputs": [],
      "source": [
        "#3) Est ce qu’il y a un lien quelconque entre l’age et le nombre d’heures travaillé par semaine ?"
      ]
    },
    {
      "cell_type": "code",
      "execution_count": 139,
      "id": "19f75fba",
      "metadata": {
        "id": "19f75fba"
      },
      "outputs": [],
      "source": [
        "data_h=ds['heures.par.semaine']\n",
        "data_a=ds['age']"
      ]
    },
    {
      "cell_type": "code",
      "execution_count": 140,
      "id": "b6a628e5",
      "metadata": {
        "colab": {
          "base_uri": "https://localhost:8080/"
        },
        "id": "b6a628e5",
        "outputId": "a80a1f89-f85c-42bb-fe1e-ca683bc2e892"
      },
      "outputs": [
        {
          "output_type": "stream",
          "name": "stdout",
          "text": [
            "p-values 6.751525347329476e-79\n",
            "rejetter l'hpothèse nulle\n"
          ]
        }
      ],
      "source": [
        "ttest3, pval3 = stats.ttest_rel(data_h, data_a)\n",
        "print(\"p-values\",pval3)\n",
        "\n",
        "if pval3 < 0.05 :\n",
        "  print(\"rejetter l'hpothèse nulle\")\n",
        "else:\n",
        "  print(\"on accepte l'hypothèse nulle\")"
      ]
    },
    {
      "cell_type": "code",
      "execution_count": null,
      "id": "01e58b22",
      "metadata": {
        "id": "01e58b22"
      },
      "outputs": [],
      "source": []
    }
  ],
  "metadata": {
    "kernelspec": {
      "display_name": "Python 3 (ipykernel)",
      "language": "python",
      "name": "python3"
    },
    "language_info": {
      "codemirror_mode": {
        "name": "ipython",
        "version": 3
      },
      "file_extension": ".py",
      "mimetype": "text/x-python",
      "name": "python",
      "nbconvert_exporter": "python",
      "pygments_lexer": "ipython3",
      "version": "3.9.13"
    },
    "colab": {
      "provenance": []
    }
  },
  "nbformat": 4,
  "nbformat_minor": 5
}