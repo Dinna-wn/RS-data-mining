{
 "cells": [
  {
   "cell_type": "markdown",
   "id": "5f617a20",
   "metadata": {
    "id": "5f617a20"
   },
   "source": [
    "# Partie 1"
   ]
  },
  {
   "cell_type": "code",
   "execution_count": 1,
   "id": "893c5283",
   "metadata": {
    "id": "893c5283"
   },
   "outputs": [],
   "source": [
    "import pandas as pd\n",
    "import numpy as np\n",
    "from scipy.sparse import linalg \n",
    "from scipy.spatial import distance"
   ]
  },
  {
   "cell_type": "code",
   "execution_count": 2,
   "id": "92bcfa67",
   "metadata": {
    "colab": {
     "base_uri": "https://localhost:8080/",
     "height": 206
    },
    "id": "92bcfa67",
    "outputId": "20fdf84c-c4b3-4e6a-e7bb-529373cfe375"
   },
   "outputs": [
    {
     "data": {
      "text/html": [
       "<div>\n",
       "<style scoped>\n",
       "    .dataframe tbody tr th:only-of-type {\n",
       "        vertical-align: middle;\n",
       "    }\n",
       "\n",
       "    .dataframe tbody tr th {\n",
       "        vertical-align: top;\n",
       "    }\n",
       "\n",
       "    .dataframe thead th {\n",
       "        text-align: right;\n",
       "    }\n",
       "</style>\n",
       "<table border=\"1\" class=\"dataframe\">\n",
       "  <thead>\n",
       "    <tr style=\"text-align: right;\">\n",
       "      <th></th>\n",
       "      <th>IdFilm</th>\n",
       "      <th>Titre</th>\n",
       "      <th>Genres</th>\n",
       "      <th>IdUtilisateur</th>\n",
       "      <th>Note</th>\n",
       "      <th>Horodatage</th>\n",
       "    </tr>\n",
       "  </thead>\n",
       "  <tbody>\n",
       "    <tr>\n",
       "      <th>0</th>\n",
       "      <td>1</td>\n",
       "      <td>Toy Story (1995)</td>\n",
       "      <td>Aventure|Animation|Enfants|Comédie|Fantaisie</td>\n",
       "      <td>1</td>\n",
       "      <td>4.0</td>\n",
       "      <td>964982703</td>\n",
       "    </tr>\n",
       "    <tr>\n",
       "      <th>1</th>\n",
       "      <td>1</td>\n",
       "      <td>Toy Story (1995)</td>\n",
       "      <td>Aventure|Animation|Enfants|Comédie|Fantaisie</td>\n",
       "      <td>5</td>\n",
       "      <td>4.0</td>\n",
       "      <td>847434962</td>\n",
       "    </tr>\n",
       "    <tr>\n",
       "      <th>2</th>\n",
       "      <td>1</td>\n",
       "      <td>Toy Story (1995)</td>\n",
       "      <td>Aventure|Animation|Enfants|Comédie|Fantaisie</td>\n",
       "      <td>7</td>\n",
       "      <td>4.5</td>\n",
       "      <td>1106635946</td>\n",
       "    </tr>\n",
       "    <tr>\n",
       "      <th>3</th>\n",
       "      <td>1</td>\n",
       "      <td>Toy Story (1995)</td>\n",
       "      <td>Aventure|Animation|Enfants|Comédie|Fantaisie</td>\n",
       "      <td>15</td>\n",
       "      <td>2.5</td>\n",
       "      <td>1510577970</td>\n",
       "    </tr>\n",
       "    <tr>\n",
       "      <th>4</th>\n",
       "      <td>1</td>\n",
       "      <td>Toy Story (1995)</td>\n",
       "      <td>Aventure|Animation|Enfants|Comédie|Fantaisie</td>\n",
       "      <td>17</td>\n",
       "      <td>4.5</td>\n",
       "      <td>1305696483</td>\n",
       "    </tr>\n",
       "  </tbody>\n",
       "</table>\n",
       "</div>"
      ],
      "text/plain": [
       "   IdFilm             Titre                                        Genres  \\\n",
       "0       1  Toy Story (1995)  Aventure|Animation|Enfants|Comédie|Fantaisie   \n",
       "1       1  Toy Story (1995)  Aventure|Animation|Enfants|Comédie|Fantaisie   \n",
       "2       1  Toy Story (1995)  Aventure|Animation|Enfants|Comédie|Fantaisie   \n",
       "3       1  Toy Story (1995)  Aventure|Animation|Enfants|Comédie|Fantaisie   \n",
       "4       1  Toy Story (1995)  Aventure|Animation|Enfants|Comédie|Fantaisie   \n",
       "\n",
       "   IdUtilisateur  Note  Horodatage  \n",
       "0              1   4.0   964982703  \n",
       "1              5   4.0   847434962  \n",
       "2              7   4.5  1106635946  \n",
       "3             15   2.5  1510577970  \n",
       "4             17   4.5  1305696483  "
      ]
     },
     "execution_count": 2,
     "metadata": {},
     "output_type": "execute_result"
    }
   ],
   "source": [
    "df_1 = pd.read_csv('notes.csv')\n",
    "df_2= pd.read_csv('films.csv', encoding ='latin1')\n",
    "df_2.head()\n",
    "df = pd.merge(df_2, df_1, on = 'IdFilm')\n",
    "df.head()"
   ]
  },
  {
   "cell_type": "code",
   "execution_count": 3,
   "id": "a4d6c250",
   "metadata": {
    "colab": {
     "base_uri": "https://localhost:8080/"
    },
    "id": "a4d6c250",
    "outputId": "4143aaf6-02fc-4655-ddd5-9669bb32fad0"
   },
   "outputs": [
    {
     "name": "stdout",
     "output_type": "stream",
     "text": [
      "la taille de notre jeu de données avant le pretraitement est:  (100836, 6)\n",
      "la taille de notre jeu de données apres la supprission de les lignes en double est:  (100836, 6)\n",
      "Le nombe de valeurs nan est:  (100836, 6)\n"
     ]
    }
   ],
   "source": [
    "# Delete duplicate rows and nan values  \n",
    "print('la taille de notre jeu de données avant le pretraitement est: ',df.shape)\n",
    "print('la taille de notre jeu de données apres la supprission de les lignes en double est: ',df.drop_duplicates().shape)\n",
    "print('Le nombe de valeurs nan est: ', df.dropna().shape)"
   ]
  },
  {
   "cell_type": "code",
   "execution_count": 4,
   "id": "6e94c031",
   "metadata": {
    "id": "6e94c031"
   },
   "outputs": [],
   "source": [
    "# 1-Quel est le nombre de notes donn´ees par tous les utilisateurs ?"
   ]
  },
  {
   "cell_type": "code",
   "execution_count": 5,
   "id": "e2fdb971",
   "metadata": {
    "colab": {
     "base_uri": "https://localhost:8080/"
    },
    "id": "e2fdb971",
    "outputId": "b7222b6a-d704-4b8f-cbb1-3a4e52ea3736",
    "scrolled": true
   },
   "outputs": [
    {
     "name": "stdout",
     "output_type": "stream",
     "text": [
      "Le nombre de notes données par tous les utilisateurs est:  100836\n"
     ]
    }
   ],
   "source": [
    "print('Le nombre de notes données par tous les utilisateurs est: ',df.Note.notnull().shape[0])"
   ]
  },
  {
   "cell_type": "code",
   "execution_count": 6,
   "id": "f48ce741",
   "metadata": {
    "id": "f48ce741"
   },
   "outputs": [],
   "source": [
    "# 2-Quel est le nombre d’utilisateurs ? Quel est le nombre de films ?"
   ]
  },
  {
   "cell_type": "code",
   "execution_count": 7,
   "id": "e07c6d63",
   "metadata": {
    "colab": {
     "base_uri": "https://localhost:8080/"
    },
    "id": "e07c6d63",
    "outputId": "5ef7e25c-46da-4c43-8d70-e09dcc9afec5"
   },
   "outputs": [
    {
     "name": "stdout",
     "output_type": "stream",
     "text": [
      " le nombre d’utilisateurs  est :  610\n",
      " le nombre de films est :  9724\n"
     ]
    }
   ],
   "source": [
    "print(\" le nombre d’utilisateurs  est : \", df[\"IdUtilisateur\"].nunique())\n",
    "print(\" le nombre de films est : \",  df[['IdFilm']].drop_duplicates().shape[0])"
   ]
  },
  {
   "cell_type": "code",
   "execution_count": 8,
   "id": "a75d5680",
   "metadata": {
    "id": "a75d5680"
   },
   "outputs": [],
   "source": [
    "#3- Quel est le nombre moyen de notes par utilisateur ?"
   ]
  },
  {
   "cell_type": "code",
   "execution_count": 9,
   "id": "0c346916",
   "metadata": {
    "colab": {
     "base_uri": "https://localhost:8080/"
    },
    "id": "0c346916",
    "outputId": "d35fd7e1-3bf4-40af-9a11-81d38a5f4acb"
   },
   "outputs": [
    {
     "name": "stdout",
     "output_type": "stream",
     "text": [
      "le nombre moyen de notes par utilisateur est:  165.30491803278687\n"
     ]
    }
   ],
   "source": [
    "df_note= df.groupby(['IdUtilisateur']).size().reset_index(name='nb_moyen')\n",
    "print('le nombre moyen de notes par utilisateur est: ',df_note.nb_moyen.mean())"
   ]
  },
  {
   "cell_type": "code",
   "execution_count": 10,
   "id": "8ac57002",
   "metadata": {
    "id": "8ac57002"
   },
   "outputs": [],
   "source": [
    "# 4-Quel est le nombre moyen de notes par film ?"
   ]
  },
  {
   "cell_type": "code",
   "execution_count": 11,
   "id": "eebc3707",
   "metadata": {
    "colab": {
     "base_uri": "https://localhost:8080/"
    },
    "id": "eebc3707",
    "outputId": "87f1e954-3ba1-4906-ce79-3ff5ad5b981b"
   },
   "outputs": [
    {
     "name": "stdout",
     "output_type": "stream",
     "text": [
      "le nombre moyen de notes par film est:  10.369806663924312\n"
     ]
    }
   ],
   "source": [
    "df_note_film= df.groupby(['IdFilm']).size().reset_index(name='nb_film')\n",
    "print('le nombre moyen de notes par film est: ',df_note_film.nb_film.mean() )"
   ]
  },
  {
   "cell_type": "code",
   "execution_count": 12,
   "id": "3e41029b",
   "metadata": {
    "id": "3e41029b"
   },
   "outputs": [],
   "source": [
    "# 5-Quel film a la note moyenne la plus basse?"
   ]
  },
  {
   "cell_type": "code",
   "execution_count": 13,
   "id": "fedaf65f",
   "metadata": {
    "colab": {
     "base_uri": "https://localhost:8080/"
    },
    "id": "fedaf65f",
    "outputId": "379fb383-eff7-4ea8-a52a-9fdbbdbd845c",
    "scrolled": false
   },
   "outputs": [
    {
     "name": "stdout",
     "output_type": "stream",
     "text": [
      "      IdFilm                                              Titre  moyenne\n",
      "2685    3604                                       Gypsy (1962)      0.5\n",
      "2929    3933                          Killer Shrews, The (1959)      0.5\n",
      "3023    4051  Horreurs of Spider Island (Ein Toter Hing im N...      0.5\n",
      "3230    4371                                    Baby Boy (2001)      0.5\n",
      "3364    4580                                      Cyborg (1989)      0.5\n",
      "...      ...                                                ...      ...\n",
      "9401  165645                                 Bad Santa 2 (2016)      0.5\n",
      "9426  167296                                    Iron Man (1931)      0.5\n",
      "9540  173307                     The Gracefield Incident (2015)      0.5\n",
      "9572  175475                             The Emoji Movie (2017)      0.5\n",
      "9675  184641                    Fullmetal Alchemist 2018 (2017)      0.5\n",
      "\n",
      "[96 rows x 3 columns]\n"
     ]
    }
   ],
   "source": [
    "df_min= df.groupby(['IdFilm', 'Titre'])['Note'].mean().reset_index(name='moyenne')\n",
    "print(df_min[df_min['moyenne'] == df_min['moyenne'].min()])"
   ]
  },
  {
   "cell_type": "code",
   "execution_count": 14,
   "id": "8011c68e",
   "metadata": {
    "id": "8011c68e"
   },
   "outputs": [],
   "source": [
    "# 6. Quel film a la note moyenne la plus ´elev´ee ?"
   ]
  },
  {
   "cell_type": "code",
   "execution_count": 15,
   "id": "bdedde54",
   "metadata": {
    "colab": {
     "base_uri": "https://localhost:8080/"
    },
    "id": "bdedde54",
    "outputId": "67ae592c-33a9-4102-db33-7b5c311202b1"
   },
   "outputs": [
    {
     "name": "stdout",
     "output_type": "stream",
     "text": [
      "      IdFilm                                              Titre  moyenne\n",
      "48        53                                    Lamerica (1994)      5.0\n",
      "87        99               Heidi Fleiss: Hollywood Madam (1995)      5.0\n",
      "121      148                    Awfully Big Aventure, An (1995)      5.0\n",
      "405      467                             Live Nude Girls (1995)      5.0\n",
      "432      495  In the Realm of the Senses (Ai no corrida) (1976)      5.0\n",
      "...      ...                                                ...      ...\n",
      "9593  176601                                       Black Mirror      5.0\n",
      "9615  179133                              Loving Vincent (2017)      5.0\n",
      "9616  179135                              Blue Planet II (2017)      5.0\n",
      "9670  184245                            De platte jungle (1978)      5.0\n",
      "9693  187717                   Won't You Be My Neighbor? (2018)      5.0\n",
      "\n",
      "[296 rows x 3 columns]\n"
     ]
    }
   ],
   "source": [
    "print(df_min[df_min['moyenne'] == df_min['moyenne'].max()])"
   ]
  },
  {
   "cell_type": "code",
   "execution_count": 16,
   "id": "8e93dd25",
   "metadata": {
    "id": "8e93dd25"
   },
   "outputs": [],
   "source": [
    "#df_note= df.groupby(['IdFilm','Note']).size().reset_index(name='nb_moyen')\n",
    "#dd=df_note[['IdFilm','nb_moyen']].groupby(\"IdFilm\").mean()\n",
    "#print(dd[dd['nb_moyen'] == dd['nb_moyen'].min()])"
   ]
  },
  {
   "cell_type": "raw",
   "id": "906d60b3",
   "metadata": {
    "id": "906d60b3"
   },
   "source": [
    "# Transformation des donn´ees"
   ]
  },
  {
   "cell_type": "code",
   "execution_count": 17,
   "id": "953b62da",
   "metadata": {
    "id": "953b62da"
   },
   "outputs": [],
   "source": [
    "# 1-a) Filtrez les utilisateurs qui ont vot´es moins de 100 films "
   ]
  },
  {
   "cell_type": "code",
   "execution_count": 18,
   "id": "c7d8e648",
   "metadata": {
    "id": "c7d8e648",
    "scrolled": true
   },
   "outputs": [],
   "source": [
    "#df = pd.read_csv('notes.csv')\n",
    "df2 = df.groupby('IdUtilisateur')['Note'].count()\n",
    "filtering_Users= df2[df2 >=100].index"
   ]
  },
  {
   "cell_type": "code",
   "execution_count": 19,
   "id": "12d07289",
   "metadata": {
    "id": "12d07289"
   },
   "outputs": [],
   "source": [
    "# 1-b)les films qui sont vot´es par moins de 10 utilisateurs? "
   ]
  },
  {
   "cell_type": "code",
   "execution_count": 20,
   "id": "9c593819",
   "metadata": {
    "id": "9c593819"
   },
   "outputs": [],
   "source": [
    "#df = pd.read_csv('notes.csv')\n",
    "df3 = df.groupby('IdFilm')['Note'].count()\n",
    "filtering_films= df3[df3>=10].index"
   ]
  },
  {
   "cell_type": "code",
   "execution_count": 21,
   "id": "62aa5af2",
   "metadata": {
    "id": "62aa5af2"
   },
   "outputs": [],
   "source": [
    "#creation de matrice filtre"
   ]
  },
  {
   "cell_type": "code",
   "execution_count": 22,
   "id": "4c5f8d24",
   "metadata": {
    "colab": {
     "base_uri": "https://localhost:8080/"
    },
    "id": "4c5f8d24",
    "outputId": "56034ff6-a770-42f1-96ac-1b03b15434ef"
   },
   "outputs": [
    {
     "data": {
      "text/plain": [
       "(65964, 6)"
      ]
     },
     "execution_count": 22,
     "metadata": {},
     "output_type": "execute_result"
    }
   ],
   "source": [
    "df_filtre = df[df[\"IdUtilisateur\"].isin(list(filtering_Users))]\n",
    "df_filtre = df_filtre[df_filtre[\"IdFilm\"].isin(list(filtering_films))]\n",
    "df_filtre.shape"
   ]
  },
  {
   "cell_type": "code",
   "execution_count": 23,
   "id": "519b28a5",
   "metadata": {
    "id": "519b28a5"
   },
   "outputs": [],
   "source": [
    "# Construisez la matrice utilisateur-film? "
   ]
  },
  {
   "cell_type": "code",
   "execution_count": 24,
   "id": "26ee47a8",
   "metadata": {
    "colab": {
     "base_uri": "https://localhost:8080/"
    },
    "id": "26ee47a8",
    "outputId": "412d338b-faba-41a7-90d0-b962e04b6eb3"
   },
   "outputs": [
    {
     "data": {
      "text/plain": [
       "(248, 2269)"
      ]
     },
     "execution_count": 24,
     "metadata": {},
     "output_type": "execute_result"
    }
   ],
   "source": [
    "utilisateur_film = df_filtre.pivot(index = 'IdUtilisateur', columns='IdFilm', values='Note').fillna(0)\n",
    "utilisateur_film.shape"
   ]
  },
  {
   "cell_type": "code",
   "execution_count": 25,
   "id": "894cbc9b",
   "metadata": {
    "id": "894cbc9b"
   },
   "outputs": [],
   "source": [
    "# . Calculez le taux de parcimonie de la matrice utilisateur-film"
   ]
  },
  {
   "cell_type": "code",
   "execution_count": 26,
   "id": "b1fc2fac",
   "metadata": {
    "colab": {
     "base_uri": "https://localhost:8080/"
    },
    "id": "b1fc2fac",
    "outputId": "92caebc1-79da-45e8-8244-d6b1be0db741"
   },
   "outputs": [
    {
     "name": "stdout",
     "output_type": "stream",
     "text": [
      "taux de parcimonie de la matrice utilisateur-film est:  0.11722515247586687\n"
     ]
    }
   ],
   "source": [
    "A = np.count_nonzero(utilisateur_film)\n",
    "B= utilisateur_film.count().sum()\n",
    "s= A /B\n",
    "print('taux de parcimonie de la matrice utilisateur-film est: ',s)"
   ]
  },
  {
   "cell_type": "raw",
   "id": "4ecf0e36",
   "metadata": {
    "id": "4ecf0e36"
   },
   "source": [
    "#  Filtrage collaboratif"
   ]
  },
  {
   "cell_type": "code",
   "execution_count": 27,
   "id": "9fc7bc60",
   "metadata": {
    "id": "9fc7bc60"
   },
   "outputs": [],
   "source": [
    "# Appliquez SVD sur la matrice utilisateur-film pour r´eduire la dimension "
   ]
  },
  {
   "cell_type": "code",
   "execution_count": 28,
   "id": "957950a3",
   "metadata": {
    "id": "957950a3"
   },
   "outputs": [],
   "source": [
    "U, s, Vh = linalg.svds(utilisateur_film, k = 15)"
   ]
  },
  {
   "cell_type": "code",
   "execution_count": 29,
   "id": "a52ca094",
   "metadata": {},
   "outputs": [
    {
     "name": "stdout",
     "output_type": "stream",
     "text": [
      "la taille de U est : (248, 15)\n",
      "la taille de U est : (248, 15)\n",
      "la taille de U est : (248, 15)\n"
     ]
    }
   ],
   "source": [
    "print('la taille de U est :', U.shape)\n",
    "print('la taille de U est :', U.shape)\n",
    "print('la taille de U est :', U.shape)"
   ]
  },
  {
   "cell_type": "code",
   "execution_count": 30,
   "id": "ecZpKUyKqj5n",
   "metadata": {
    "id": "ecZpKUyKqj5n"
   },
   "outputs": [],
   "source": [
    "#2. Cherchez les 5 films les plus similaires au premier film ? Remarque: vous\n",
    "#devez utiliser la fonction scipy.spatial.distance.cosine sur les lignes de la\n",
    "#matrice V (apr`es la r´eduction de la dimension)."
   ]
  },
  {
   "cell_type": "code",
   "execution_count": 31,
   "id": "4O2pymXOq_tz",
   "metadata": {
    "colab": {
     "base_uri": "https://localhost:8080/"
    },
    "id": "4O2pymXOq_tz",
    "outputId": "f907f946-0b7d-4334-cd9a-3c8a826a538a"
   },
   "outputs": [
    {
     "name": "stdout",
     "output_type": "stream",
     "text": [
      "Le premier film est:  Toy Story (1995)\n"
     ]
    }
   ],
   "source": [
    "print( 'Le premier film est: ', df[df['IdFilm'] == 1]['Titre'][0])"
   ]
  },
  {
   "cell_type": "code",
   "execution_count": 32,
   "id": "lyjD4DkWrfzo",
   "metadata": {
    "colab": {
     "base_uri": "https://localhost:8080/"
    },
    "id": "lyjD4DkWrfzo",
    "outputId": "aa1991ed-d8e9-497e-c947-377ee0cb80d6"
   },
   "outputs": [
    {
     "name": "stdout",
     "output_type": "stream",
     "text": [
      "Cherchez les 5 films les plus similaires au premier film est : \n",
      " \n"
     ]
    },
    {
     "data": {
      "text/plain": [
       "[(1.5429372672538793, 4487),\n",
       " (1.5497041143592614, 7160),\n",
       " (1.5589788599923309, 1779),\n",
       " (1.559797644463898, 7371),\n",
       " (1.5878422349363568, 46723)]"
      ]
     },
     "execution_count": 32,
     "metadata": {},
     "output_type": "execute_result"
    }
   ],
   "source": [
    "distance.cosine([1, 0, 0], [0, 1, 0])\n",
    "premier_film = Vh.T[0]\n",
    "mesure = []\n",
    "for i in range(1, 2269):\n",
    "    m = distance.cosine(premier_film, Vh.T[i])\n",
    "    mesure.append(m)\n",
    "\n",
    "film_index = list(utilisateur_film.columns[1:])\n",
    "print('Cherchez les 5 films les plus similaires au premier film est : \\n ' )\n",
    "sorted(zip(mesure, film_index))[-5:]\n"
   ]
  },
  {
   "cell_type": "code",
   "execution_count": 33,
   "id": "VY6Wn126rs4x",
   "metadata": {
    "id": "VY6Wn126rs4x"
   },
   "outputs": [],
   "source": [
    "#3. Affichez les films recommend´es pour le premier utilisateur? "
   ]
  },
  {
   "cell_type": "code",
   "execution_count": 34,
   "id": "ORDfU_E1uifB",
   "metadata": {
    "id": "ORDfU_E1uifB"
   },
   "outputs": [],
   "source": [
    "M = np.dot(np.dot(U, np.diag(s)), Vh)\n",
    "M = pd.DataFrame(M, columns=utilisateur_film.columns, index=utilisateur_film.index)"
   ]
  },
  {
   "cell_type": "code",
   "execution_count": 35,
   "id": "V8t5ti16vB2A",
   "metadata": {
    "id": "V8t5ti16vB2A"
   },
   "outputs": [],
   "source": [
    "# acceder au premier index\n",
    "film1= M.loc[1] \n",
    "#film1[film1>2.5].index"
   ]
  },
  {
   "cell_type": "code",
   "execution_count": 36,
   "id": "fFcn5OpxvgIR",
   "metadata": {
    "id": "fFcn5OpxvgIR"
   },
   "outputs": [],
   "source": [
    "# les films que l utilisateur a notée plus que 3\n",
    "list1 = list(film1[film1>3].index)"
   ]
  },
  {
   "cell_type": "code",
   "execution_count": 37,
   "id": "T_6VVUHgxH0V",
   "metadata": {
    "id": "T_6VVUHgxH0V"
   },
   "outputs": [],
   "source": [
    "w = utilisateur_film.loc[1]\n",
    "list2 = list(w[w != 0].index)"
   ]
  },
  {
   "cell_type": "code",
   "execution_count": 38,
   "id": "qcq4iiNlwt67",
   "metadata": {
    "colab": {
     "base_uri": "https://localhost:8080/"
    },
    "id": "qcq4iiNlwt67",
    "outputId": "6c0391d2-e98c-4862-a19c-4b09b6ffba59"
   },
   "outputs": [
    {
     "name": "stdout",
     "output_type": "stream",
     "text": [
      "les films recommend´es pour le premier utilisateur et qui il n a pas encore regardé [589, 1200, 1968, 2762, 2918]\n"
     ]
    }
   ],
   "source": [
    "print('les films recommend´es pour le premier utilisateur et qui il n a pas encore regardé', [i for i in list1 if i not in list2])"
   ]
  },
  {
   "cell_type": "code",
   "execution_count": 39,
   "id": "CDmt5wjj9FLH",
   "metadata": {
    "colab": {
     "base_uri": "https://localhost:8080/"
    },
    "id": "CDmt5wjj9FLH",
    "outputId": "6ae11c1d-34e0-4aea-a4bb-bd405041f3ee"
   },
   "outputs": [
    {
     "data": {
      "text/plain": [
       "[589, 1200, 1968, 2762, 2918]"
      ]
     },
     "execution_count": 39,
     "metadata": {},
     "output_type": "execute_result"
    }
   ],
   "source": [
    "liste_film_recommande = [i for i in list1 if i not in list2]\n",
    "liste_film_recommande"
   ]
  },
  {
   "cell_type": "code",
   "execution_count": 40,
   "id": "lyuBTFJ8xVgS",
   "metadata": {
    "colab": {
     "base_uri": "https://localhost:8080/"
    },
    "id": "lyuBTFJ8xVgS",
    "outputId": "01162cb1-6a66-4606-b713-1b27968d6d4a"
   },
   "outputs": [
    {
     "data": {
      "text/plain": [
       "IdFilm  Titre                              Genres                        \n",
       "589     Terminator 2: Judgment Day (1991)  Action|Sci-Fi                      [589]\n",
       "1200    Aliens (1986)                      Action|Aventure|Horreur|Sci-Fi    [1200]\n",
       "1968    Breakfast Club, The (1985)         Comédie|Drame                     [1968]\n",
       "2762    Sixth Sense, The (1999)            Drame|Horreur|Mystère             [2762]\n",
       "2918    Ferris Bueller's Day Off (1986)    Comédie                           [2918]\n",
       "Name: IdFilm, dtype: object"
      ]
     },
     "execution_count": 40,
     "metadata": {},
     "output_type": "execute_result"
    }
   ],
   "source": [
    "film_recommande=df[df[\"IdFilm\"].isin(list(liste_film_recommande))]\n",
    "film_recommande.groupby(['IdFilm', 'Titre', 'Genres'])['IdFilm'].unique()"
   ]
  }
 ],
 "metadata": {
  "colab": {
   "provenance": []
  },
  "kernelspec": {
   "display_name": "Python 3 (ipykernel)",
   "language": "python",
   "name": "python3"
  },
  "language_info": {
   "codemirror_mode": {
    "name": "ipython",
    "version": 3
   },
   "file_extension": ".py",
   "mimetype": "text/x-python",
   "name": "python",
   "nbconvert_exporter": "python",
   "pygments_lexer": "ipython3",
   "version": "3.9.12"
  }
 },
 "nbformat": 4,
 "nbformat_minor": 5
}
